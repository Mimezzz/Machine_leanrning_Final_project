{
  "cells": [
    {
      "cell_type": "code",
      "execution_count": 2,
      "metadata": {
        "id": "xZLnV7k6Vryz"
      },
      "outputs": [],
      "source": [
        "import pandas as pd\n",
        "import numpy as np\n",
        "# import os\n",
        "# import glob\n",
        "# import sqlalchemy as db\n",
        "# from sqlalchemy.ext.automap import automap_base\n",
        "# from sqlalchemy.orm import Session\n",
        "# from sqlalchemy import create_engine, func\n",
        "import requests\n",
        "import seaborn as sns\n",
        "\n",
        "from keras.models import Sequential\n",
        "from keras.layers import Activation, Dense, Dropout, LSTM\n",
        "from sklearn.metrics import mean_squared_error, r2_score\n",
        "from sklearn.model_selection import train_test_split\n"
      ]
    },
    {
      "cell_type": "code",
      "source": [
        "from google.colab import drive\n",
        "drive.mount('/content/drive')"
      ],
      "metadata": {
        "colab": {
          "base_uri": "https://localhost:8080/"
        },
        "id": "yvgcpAveV_Eh",
        "outputId": "86fdc51d-881c-4173-f8ec-89796e143418"
      },
      "execution_count": 3,
      "outputs": [
        {
          "output_type": "stream",
          "name": "stdout",
          "text": [
            "Mounted at /content/drive\n"
          ]
        }
      ]
    },
    {
      "cell_type": "code",
      "source": [
        "bitcoin_df=pd.read_csv('/content/drive/MyDrive/project3/data/bitcoin_cleaned.csv')"
      ],
      "metadata": {
        "id": "o0gDuSCCWeDX"
      },
      "execution_count": 4,
      "outputs": []
    },
    {
      "cell_type": "code",
      "source": [
        "doge_df=pd.read_csv('/content/drive/MyDrive/project3/data/doge_cleaned.csv')"
      ],
      "metadata": {
        "id": "MCPN56n-bjLp"
      },
      "execution_count": 5,
      "outputs": []
    },
    {
      "cell_type": "code",
      "source": [
        "tether_df=pd.read_csv('/content/drive/MyDrive/project3/data/tethera_cleaned.csv')"
      ],
      "metadata": {
        "id": "D8mC7pxtblSz"
      },
      "execution_count": 6,
      "outputs": []
    },
    {
      "cell_type": "code",
      "source": [
        "ethereum_df=pd.read_csv('/content/drive/MyDrive/project3/data/ethereum_cleaned.csv')"
      ],
      "metadata": {
        "id": "KPi0VBElbnFl"
      },
      "execution_count": 7,
      "outputs": []
    },
    {
      "cell_type": "code",
      "execution_count": 8,
      "metadata": {
        "id": "TH9wFgilVry3"
      },
      "outputs": [],
      "source": [
        "# cleasing data\n",
        "# shiba_df[\"Date\"] = pd.to_datetime(shiba_df[\"Date\"]).dt.normalize()\n",
        "# bitcoin_df[\"Date\"] = pd.to_datetime(bitcoin_df[\"Date\"]).dt.normalize()\n",
        "# tether_df[\"Date\"] = pd.to_datetime(tether_df[\"Date\"]).dt.normalize()\n",
        "# doge_df[\"Date\"] = pd.to_datetime(doge_df[\"Date\"]).dt.normalize()\n",
        "# ethereum_df[\"Date\"] = pd.to_datetime(ethereum_df[\"Date\"]).dt.normalize()\n",
        "def datetype(df):\n",
        "  df['Date']=pd.to_datetime(df['Date']).dt.normalize()\n",
        "\n",
        "\n",
        "datetype(bitcoin_df)\n",
        "datetype(tether_df)\n",
        "datetype(doge_df)\n",
        "datetype(ethereum_df)\n"
      ]
    },
    {
      "cell_type": "code",
      "source": [
        "# expand the features of date to get year, month and day_of_week columns to add more features\n",
        "bitcoin_df['Year']=bitcoin_df['Date'].dt.year\n",
        "bitcoin_df['Month']=bitcoin_df['Date'].dt.month\n",
        "bitcoin_df['Day_of_Week']=bitcoin_df['Date'].dt.dayofweek\n",
        "\n",
        "doge_df['Year']=doge_df['Date'].dt.year\n",
        "doge_df['Month']=doge_df['Date'].dt.month\n",
        "doge_df['Day_of_Week']=doge_df['Date'].dt.dayofweek\n",
        "\n",
        "tether_df['Year']=tether_df['Date'].dt.year\n",
        "tether_df['Month']=tether_df['Date'].dt.month\n",
        "tether_df['Day_of_Week']=tether_df['Date'].dt.dayofweek\n",
        "\n",
        "ethereum_df['Year']=ethereum_df['Date'].dt.year\n",
        "ethereum_df['Month']=ethereum_df['Date'].dt.month\n",
        "ethereum_df['Day_of_Week']=ethereum_df['Date'].dt.dayofweek"
      ],
      "metadata": {
        "id": "jFGrYLxM7Wbo"
      },
      "execution_count": 9,
      "outputs": []
    },
    {
      "cell_type": "code",
      "source": [
        "pd.set_option('display.precision',8)\n",
        "\n"
      ],
      "metadata": {
        "id": "mV9ayeIQkNs3"
      },
      "execution_count": 10,
      "outputs": []
    },
    {
      "cell_type": "code",
      "source": [
        "concat_df=pd.concat([bitcoin_df,ethereum_df,tether_df,doge_df]).set_index('Date').drop('Unnamed: 0',1)"
      ],
      "metadata": {
        "id": "VQ-qaIkAmZkn"
      },
      "execution_count": 11,
      "outputs": []
    },
    {
      "cell_type": "code",
      "source": [
        "concat_df"
      ],
      "metadata": {
        "colab": {
          "base_uri": "https://localhost:8080/",
          "height": 454
        },
        "id": "DrbVvrYbGwvE",
        "outputId": "78e9e3c8-bfd3-4723-9825-e03391f109b9"
      },
      "execution_count": 12,
      "outputs": [
        {
          "output_type": "execute_result",
          "data": {
            "text/html": [
              "\n",
              "  <div id=\"df-d641afc8-df02-4ea8-8210-5d90fdf0e746\">\n",
              "    <div class=\"colab-df-container\">\n",
              "      <div>\n",
              "<style scoped>\n",
              "    .dataframe tbody tr th:only-of-type {\n",
              "        vertical-align: middle;\n",
              "    }\n",
              "\n",
              "    .dataframe tbody tr th {\n",
              "        vertical-align: top;\n",
              "    }\n",
              "\n",
              "    .dataframe thead th {\n",
              "        text-align: right;\n",
              "    }\n",
              "</style>\n",
              "<table border=\"1\" class=\"dataframe\">\n",
              "  <thead>\n",
              "    <tr style=\"text-align: right;\">\n",
              "      <th></th>\n",
              "      <th>Name</th>\n",
              "      <th>Close</th>\n",
              "      <th>Marketcap</th>\n",
              "      <th>Year</th>\n",
              "      <th>Month</th>\n",
              "      <th>Day_of_Week</th>\n",
              "    </tr>\n",
              "    <tr>\n",
              "      <th>Date</th>\n",
              "      <th></th>\n",
              "      <th></th>\n",
              "      <th></th>\n",
              "      <th></th>\n",
              "      <th></th>\n",
              "      <th></th>\n",
              "    </tr>\n",
              "  </thead>\n",
              "  <tbody>\n",
              "    <tr>\n",
              "      <th>2013-04-29</th>\n",
              "      <td>Bitcoin</td>\n",
              "      <td>144.53999329</td>\n",
              "      <td>1.60376886e+09</td>\n",
              "      <td>2013</td>\n",
              "      <td>4</td>\n",
              "      <td>0</td>\n",
              "    </tr>\n",
              "    <tr>\n",
              "      <th>2013-04-30</th>\n",
              "      <td>Bitcoin</td>\n",
              "      <td>139.00000000</td>\n",
              "      <td>1.54281312e+09</td>\n",
              "      <td>2013</td>\n",
              "      <td>4</td>\n",
              "      <td>1</td>\n",
              "    </tr>\n",
              "    <tr>\n",
              "      <th>2013-05-01</th>\n",
              "      <td>Bitcoin</td>\n",
              "      <td>116.98999786</td>\n",
              "      <td>1.29895459e+09</td>\n",
              "      <td>2013</td>\n",
              "      <td>5</td>\n",
              "      <td>2</td>\n",
              "    </tr>\n",
              "    <tr>\n",
              "      <th>2013-05-02</th>\n",
              "      <td>Bitcoin</td>\n",
              "      <td>105.20999908</td>\n",
              "      <td>1.16851750e+09</td>\n",
              "      <td>2013</td>\n",
              "      <td>5</td>\n",
              "      <td>3</td>\n",
              "    </tr>\n",
              "    <tr>\n",
              "      <th>2013-05-03</th>\n",
              "      <td>Bitcoin</td>\n",
              "      <td>97.75000000</td>\n",
              "      <td>1.08599517e+09</td>\n",
              "      <td>2013</td>\n",
              "      <td>5</td>\n",
              "      <td>4</td>\n",
              "    </tr>\n",
              "    <tr>\n",
              "      <th>...</th>\n",
              "      <td>...</td>\n",
              "      <td>...</td>\n",
              "      <td>...</td>\n",
              "      <td>...</td>\n",
              "      <td>...</td>\n",
              "      <td>...</td>\n",
              "    </tr>\n",
              "    <tr>\n",
              "      <th>2021-02-07</th>\n",
              "      <td>Dogecoin</td>\n",
              "      <td>0.24526382</td>\n",
              "      <td>3.19492533e+10</td>\n",
              "      <td>2021</td>\n",
              "      <td>2</td>\n",
              "      <td>6</td>\n",
              "    </tr>\n",
              "    <tr>\n",
              "      <th>2021-03-07</th>\n",
              "      <td>Dogecoin</td>\n",
              "      <td>0.24641099</td>\n",
              "      <td>3.21049089e+10</td>\n",
              "      <td>2021</td>\n",
              "      <td>3</td>\n",
              "      <td>6</td>\n",
              "    </tr>\n",
              "    <tr>\n",
              "      <th>2021-04-07</th>\n",
              "      <td>Dogecoin</td>\n",
              "      <td>0.24648301</td>\n",
              "      <td>3.21176658e+10</td>\n",
              "      <td>2021</td>\n",
              "      <td>4</td>\n",
              "      <td>2</td>\n",
              "    </tr>\n",
              "    <tr>\n",
              "      <th>2021-05-07</th>\n",
              "      <td>Dogecoin</td>\n",
              "      <td>0.23161442</td>\n",
              "      <td>3.01834438e+10</td>\n",
              "      <td>2021</td>\n",
              "      <td>5</td>\n",
              "      <td>4</td>\n",
              "    </tr>\n",
              "    <tr>\n",
              "      <th>2021-06-07</th>\n",
              "      <td>Dogecoin</td>\n",
              "      <td>0.23442176</td>\n",
              "      <td>3.05525184e+10</td>\n",
              "      <td>2021</td>\n",
              "      <td>6</td>\n",
              "      <td>0</td>\n",
              "    </tr>\n",
              "  </tbody>\n",
              "</table>\n",
              "<p>10229 rows × 6 columns</p>\n",
              "</div>\n",
              "      <button class=\"colab-df-convert\" onclick=\"convertToInteractive('df-d641afc8-df02-4ea8-8210-5d90fdf0e746')\"\n",
              "              title=\"Convert this dataframe to an interactive table.\"\n",
              "              style=\"display:none;\">\n",
              "        \n",
              "  <svg xmlns=\"http://www.w3.org/2000/svg\" height=\"24px\"viewBox=\"0 0 24 24\"\n",
              "       width=\"24px\">\n",
              "    <path d=\"M0 0h24v24H0V0z\" fill=\"none\"/>\n",
              "    <path d=\"M18.56 5.44l.94 2.06.94-2.06 2.06-.94-2.06-.94-.94-2.06-.94 2.06-2.06.94zm-11 1L8.5 8.5l.94-2.06 2.06-.94-2.06-.94L8.5 2.5l-.94 2.06-2.06.94zm10 10l.94 2.06.94-2.06 2.06-.94-2.06-.94-.94-2.06-.94 2.06-2.06.94z\"/><path d=\"M17.41 7.96l-1.37-1.37c-.4-.4-.92-.59-1.43-.59-.52 0-1.04.2-1.43.59L10.3 9.45l-7.72 7.72c-.78.78-.78 2.05 0 2.83L4 21.41c.39.39.9.59 1.41.59.51 0 1.02-.2 1.41-.59l7.78-7.78 2.81-2.81c.8-.78.8-2.07 0-2.86zM5.41 20L4 18.59l7.72-7.72 1.47 1.35L5.41 20z\"/>\n",
              "  </svg>\n",
              "      </button>\n",
              "      \n",
              "  <style>\n",
              "    .colab-df-container {\n",
              "      display:flex;\n",
              "      flex-wrap:wrap;\n",
              "      gap: 12px;\n",
              "    }\n",
              "\n",
              "    .colab-df-convert {\n",
              "      background-color: #E8F0FE;\n",
              "      border: none;\n",
              "      border-radius: 50%;\n",
              "      cursor: pointer;\n",
              "      display: none;\n",
              "      fill: #1967D2;\n",
              "      height: 32px;\n",
              "      padding: 0 0 0 0;\n",
              "      width: 32px;\n",
              "    }\n",
              "\n",
              "    .colab-df-convert:hover {\n",
              "      background-color: #E2EBFA;\n",
              "      box-shadow: 0px 1px 2px rgba(60, 64, 67, 0.3), 0px 1px 3px 1px rgba(60, 64, 67, 0.15);\n",
              "      fill: #174EA6;\n",
              "    }\n",
              "\n",
              "    [theme=dark] .colab-df-convert {\n",
              "      background-color: #3B4455;\n",
              "      fill: #D2E3FC;\n",
              "    }\n",
              "\n",
              "    [theme=dark] .colab-df-convert:hover {\n",
              "      background-color: #434B5C;\n",
              "      box-shadow: 0px 1px 3px 1px rgba(0, 0, 0, 0.15);\n",
              "      filter: drop-shadow(0px 1px 2px rgba(0, 0, 0, 0.3));\n",
              "      fill: #FFFFFF;\n",
              "    }\n",
              "  </style>\n",
              "\n",
              "      <script>\n",
              "        const buttonEl =\n",
              "          document.querySelector('#df-d641afc8-df02-4ea8-8210-5d90fdf0e746 button.colab-df-convert');\n",
              "        buttonEl.style.display =\n",
              "          google.colab.kernel.accessAllowed ? 'block' : 'none';\n",
              "\n",
              "        async function convertToInteractive(key) {\n",
              "          const element = document.querySelector('#df-d641afc8-df02-4ea8-8210-5d90fdf0e746');\n",
              "          const dataTable =\n",
              "            await google.colab.kernel.invokeFunction('convertToInteractive',\n",
              "                                                     [key], {});\n",
              "          if (!dataTable) return;\n",
              "\n",
              "          const docLinkHtml = 'Like what you see? Visit the ' +\n",
              "            '<a target=\"_blank\" href=https://colab.research.google.com/notebooks/data_table.ipynb>data table notebook</a>'\n",
              "            + ' to learn more about interactive tables.';\n",
              "          element.innerHTML = '';\n",
              "          dataTable['output_type'] = 'display_data';\n",
              "          await google.colab.output.renderOutput(dataTable, element);\n",
              "          const docLink = document.createElement('div');\n",
              "          docLink.innerHTML = docLinkHtml;\n",
              "          element.appendChild(docLink);\n",
              "        }\n",
              "      </script>\n",
              "    </div>\n",
              "  </div>\n",
              "  "
            ],
            "text/plain": [
              "                Name         Close       Marketcap  Year  Month  Day_of_Week\n",
              "Date                                                                        \n",
              "2013-04-29   Bitcoin  144.53999329  1.60376886e+09  2013      4            0\n",
              "2013-04-30   Bitcoin  139.00000000  1.54281312e+09  2013      4            1\n",
              "2013-05-01   Bitcoin  116.98999786  1.29895459e+09  2013      5            2\n",
              "2013-05-02   Bitcoin  105.20999908  1.16851750e+09  2013      5            3\n",
              "2013-05-03   Bitcoin   97.75000000  1.08599517e+09  2013      5            4\n",
              "...              ...           ...             ...   ...    ...          ...\n",
              "2021-02-07  Dogecoin    0.24526382  3.19492533e+10  2021      2            6\n",
              "2021-03-07  Dogecoin    0.24641099  3.21049089e+10  2021      3            6\n",
              "2021-04-07  Dogecoin    0.24648301  3.21176658e+10  2021      4            2\n",
              "2021-05-07  Dogecoin    0.23161442  3.01834438e+10  2021      5            4\n",
              "2021-06-07  Dogecoin    0.23442176  3.05525184e+10  2021      6            0\n",
              "\n",
              "[10229 rows x 6 columns]"
            ]
          },
          "metadata": {},
          "execution_count": 12
        }
      ]
    },
    {
      "cell_type": "code",
      "source": [
        "coin_name_list=concat_df['Name'].unique()"
      ],
      "metadata": {
        "id": "ksbkdqmjnUDD"
      },
      "execution_count": 14,
      "outputs": []
    },
    {
      "cell_type": "code",
      "source": [
        "#@title Default title text\n",
        "# make a plot to see price change first\n",
        "from matplotlib import pyplot as plt\n",
        "\n",
        "plt.figure(figsize=(12,8))\n",
        "plt.xlabel('Date')\n",
        "plt.ylabel('Close Price')\n",
        "for name in coin_name_list:\n",
        "  print(name)\n",
        "  name=str(name)\n",
        "  plt.plot(concat_df.loc[concat_df['Name'] == name,['Close']])\n",
        "  "
      ],
      "metadata": {
        "colab": {
          "base_uri": "https://localhost:8080/",
          "height": 571
        },
        "id": "ahi7_2aLHVF4",
        "outputId": "21f80662-adb3-4696-e71b-12cbfbc3cba3",
        "cellView": "code"
      },
      "execution_count": 15,
      "outputs": [
        {
          "output_type": "stream",
          "name": "stdout",
          "text": [
            "Bitcoin\n",
            "Ethereum\n",
            "Tether\n",
            "Dogecoin\n"
          ]
        },
        {
          "output_type": "display_data",
          "data": {
            "image/png": "[encoded data removed]",
            "text/plain": [
              "<Figure size 864x576 with 1 Axes>"
            ]
          },
          "metadata": {
            "needs_background": "light"
          }
        }
      ]
    },
    {
      "cell_type": "code",
      "source": [
        "# define functions to help select the right df/data and split the test/traing data accordingly\n",
        "\n",
        "# for bitcoin data\n",
        "\n",
        "df=concat_df.loc[concat_df['Name'] == 'Bitcoin',['Close']]\n",
        "# df=df.query('index >= 20180101')\n",
        "print(df.shape)\n",
        "split_row = len(df) - int(0.2 * len(df))\n",
        "train = df.iloc[:split_row].values\n",
        "test = df.iloc[split_row:].values\n",
        "print(train.shape, test.shape)\n"
      ],
      "metadata": {
        "colab": {
          "base_uri": "https://localhost:8080/"
        },
        "id": "_aucjs3JMa8q",
        "outputId": "eaf78ddc-1ff7-4af3-a713-e7a497af3462"
      },
      "execution_count": 17,
      "outputs": [
        {
          "output_type": "stream",
          "name": "stdout",
          "text": [
            "(2991, 1)\n",
            "(2393, 1) (598, 1)\n"
          ]
        }
      ]
    },
    {
      "cell_type": "code",
      "source": [
        "from sklearn.preprocessing import MinMaxScaler\n",
        "\n",
        "scaler = MinMaxScaler(feature_range=(0, 1))\n",
        "scaled_data = scaler.fit_transform(df)\n",
        "scaled_data"
      ],
      "metadata": {
        "colab": {
          "base_uri": "https://localhost:8080/"
        },
        "id": "CDovBMckKZPP",
        "outputId": "ec90b47d-a2a4-4867-b0fa-f01c651d901a"
      },
      "execution_count": 18,
      "outputs": [
        {
          "output_type": "execute_result",
          "data": {
            "text/plain": [
              "array([[0.00119979],\n",
              "       [0.00111246],\n",
              "       [0.00076549],\n",
              "       ...,\n",
              "       [0.5552035 ],\n",
              "       [0.53089867],\n",
              "       [0.53861036]])"
            ]
          },
          "metadata": {},
          "execution_count": 18
        }
      ]
    },
    {
      "cell_type": "code",
      "source": [
        "x_train, y_train = [], []\n",
        "for i in range(60,len(train)):\n",
        "    x_train.append(scaled_data[i-60:i,0])\n",
        "    y_train.append(scaled_data[i,0])\n",
        "\n",
        "\n",
        "x_train= np.array(x_train)\n",
        "x_train = np.reshape(x_train, (x_train.shape[0],x_train.shape[1],1))\n",
        "y_train=np.array(y_train)\n",
        "y_train=y_train.reshape(-1,1)"
      ],
      "metadata": {
        "id": "nnStP05NKnIm"
      },
      "execution_count": 19,
      "outputs": []
    },
    {
      "cell_type": "code",
      "source": [
        "from keras.models import Sequential\n",
        "from keras.layers import Dense, Dropout, LSTM\n",
        "model = Sequential()\n",
        "model.add(LSTM(units=100, return_sequences=True, input_shape=(x_train.shape[1],1)))\n",
        "model.add(LSTM(units=50))\n",
        "model.add(Dropout(0.2))\n",
        "model.add(Dense(1))\n",
        "model.add(Activation('linear'))\n",
        "model.compile(loss='mean_squared_error', optimizer='adam')\n"
      ],
      "metadata": {
        "id": "cYsJA2n4RijP"
      },
      "execution_count": null,
      "outputs": []
    },
    {
      "cell_type": "code",
      "source": [
        "model.fit(x_train, y_train, epochs=40, batch_size=32, verbose=1)"
      ],
      "metadata": {
        "colab": {
          "base_uri": "https://localhost:8080/"
        },
        "id": "zU_kfFS6RkrX",
        "outputId": "6d0d2d00-d807-4d02-9137-390e14f02356"
      },
      "execution_count": null,
      "outputs": [
        {
          "output_type": "stream",
          "name": "stdout",
          "text": [
            "Epoch 1/40\n",
            "73/73 [==============================] - 7s 54ms/step - loss: 4.7438e-04\n",
            "Epoch 2/40\n",
            "73/73 [==============================] - 4s 55ms/step - loss: 1.3610e-04\n",
            "Epoch 3/40\n",
            "73/73 [==============================] - 4s 55ms/step - loss: 1.2061e-04\n",
            "Epoch 4/40\n",
            "73/73 [==============================] - 4s 54ms/step - loss: 1.0184e-04\n",
            "Epoch 5/40\n",
            "73/73 [==============================] - 4s 55ms/step - loss: 9.7031e-05\n",
            "Epoch 6/40\n",
            "73/73 [==============================] - 4s 55ms/step - loss: 9.9727e-05\n",
            "Epoch 7/40\n",
            "73/73 [==============================] - 4s 55ms/step - loss: 7.9120e-05\n",
            "Epoch 8/40\n",
            "73/73 [==============================] - 4s 56ms/step - loss: 7.7210e-05\n",
            "Epoch 9/40\n",
            "73/73 [==============================] - 4s 55ms/step - loss: 8.1382e-05\n",
            "Epoch 10/40\n",
            "73/73 [==============================] - 4s 56ms/step - loss: 7.0586e-05\n",
            "Epoch 11/40\n",
            "73/73 [==============================] - 4s 55ms/step - loss: 7.4288e-05\n",
            "Epoch 12/40\n",
            "73/73 [==============================] - 4s 56ms/step - loss: 7.6570e-05\n",
            "Epoch 13/40\n",
            "73/73 [==============================] - 4s 55ms/step - loss: 7.0349e-05\n",
            "Epoch 14/40\n",
            "73/73 [==============================] - 4s 55ms/step - loss: 6.3860e-05\n",
            "Epoch 15/40\n",
            "73/73 [==============================] - 4s 55ms/step - loss: 7.4568e-05\n",
            "Epoch 16/40\n",
            "73/73 [==============================] - 4s 54ms/step - loss: 6.4466e-05\n",
            "Epoch 17/40\n",
            "73/73 [==============================] - 4s 55ms/step - loss: 6.5525e-05\n",
            "Epoch 18/40\n",
            "73/73 [==============================] - 4s 55ms/step - loss: 6.9181e-05\n",
            "Epoch 19/40\n",
            "73/73 [==============================] - 4s 54ms/step - loss: 5.7027e-05\n",
            "Epoch 20/40\n",
            "73/73 [==============================] - 4s 55ms/step - loss: 6.5294e-05\n",
            "Epoch 21/40\n",
            "73/73 [==============================] - 4s 55ms/step - loss: 6.4447e-05\n",
            "Epoch 22/40\n",
            "73/73 [==============================] - 4s 55ms/step - loss: 5.9694e-05\n",
            "Epoch 23/40\n",
            "73/73 [==============================] - 4s 56ms/step - loss: 6.2687e-05\n",
            "Epoch 24/40\n",
            "73/73 [==============================] - 4s 55ms/step - loss: 5.6373e-05\n",
            "Epoch 25/40\n",
            "73/73 [==============================] - 4s 54ms/step - loss: 4.9340e-05\n",
            "Epoch 26/40\n",
            "73/73 [==============================] - 4s 55ms/step - loss: 5.5620e-05\n",
            "Epoch 27/40\n",
            "73/73 [==============================] - 4s 55ms/step - loss: 6.0285e-05\n",
            "Epoch 28/40\n",
            "73/73 [==============================] - 4s 54ms/step - loss: 5.5567e-05\n",
            "Epoch 29/40\n",
            "73/73 [==============================] - 4s 54ms/step - loss: 6.0583e-05\n",
            "Epoch 30/40\n",
            "73/73 [==============================] - 4s 55ms/step - loss: 5.8078e-05\n",
            "Epoch 31/40\n",
            "73/73 [==============================] - 4s 55ms/step - loss: 5.3421e-05\n",
            "Epoch 32/40\n",
            "73/73 [==============================] - 4s 55ms/step - loss: 4.6385e-05\n",
            "Epoch 33/40\n",
            "73/73 [==============================] - 4s 56ms/step - loss: 4.8248e-05\n",
            "Epoch 34/40\n",
            "73/73 [==============================] - 4s 54ms/step - loss: 4.6337e-05\n",
            "Epoch 35/40\n",
            "73/73 [==============================] - 4s 54ms/step - loss: 4.5497e-05\n",
            "Epoch 36/40\n",
            "73/73 [==============================] - 4s 54ms/step - loss: 5.3947e-05\n",
            "Epoch 37/40\n",
            "73/73 [==============================] - 4s 54ms/step - loss: 4.3328e-05\n",
            "Epoch 38/40\n",
            "73/73 [==============================] - 4s 55ms/step - loss: 4.7612e-05\n",
            "Epoch 39/40\n",
            "73/73 [==============================] - 4s 55ms/step - loss: 4.5530e-05\n",
            "Epoch 40/40\n",
            "73/73 [==============================] - 4s 54ms/step - loss: 4.8361e-05\n"
          ]
        },
        {
          "output_type": "execute_result",
          "data": {
            "text/plain": [
              "<keras.callbacks.History at 0x7fa2b878f490>"
            ]
          },
          "metadata": {},
          "execution_count": 18
        }
      ]
    },
    {
      "cell_type": "code",
      "source": [
        "model.save(\"/content/drive/MyDrive/project3/static/python/final_model.h5\")"
      ],
      "metadata": {
        "id": "pmQ3uVIU7ymS"
      },
      "execution_count": null,
      "outputs": []
    },
    {
      "cell_type": "code",
      "source": [
        "from tensorflow.keras.models import load_model\n",
        "model = load_model(\"/content/drive/MyDrive/project3/static/python/final_model.h5\")"
      ],
      "metadata": {
        "id": "cB-JYYM3704p"
      },
      "execution_count": 20,
      "outputs": []
    },
    {
      "cell_type": "code",
      "source": [
        "inputs = df[len(df) - len(test) - 60:].values\n",
        "inputs = inputs.reshape(-1,1)\n",
        "inputs  = scaler.transform(inputs)"
      ],
      "metadata": {
        "colab": {
          "base_uri": "https://localhost:8080/"
        },
        "id": "rP_L0mebRc_N",
        "outputId": "d9d03885-30bb-487c-f3c7-6fef2a31f58a"
      },
      "execution_count": 21,
      "outputs": [
        {
          "output_type": "stream",
          "name": "stderr",
          "text": [
            "/usr/local/lib/python3.7/dist-packages/sklearn/base.py:451: UserWarning: X does not have valid feature names, but MinMaxScaler was fitted with feature names\n",
            "  \"X does not have valid feature names, but\"\n"
          ]
        }
      ]
    },
    {
      "cell_type": "code",
      "source": [
        "X_test = []\n",
        "for i in range(60,inputs.shape[0]):\n",
        "    X_test.append(inputs[i-60:i,0])\n",
        "X_test = np.array(X_test)\n",
        "X_test = np.reshape(X_test, (X_test.shape[0],X_test.shape[1],1))"
      ],
      "metadata": {
        "id": "SVuJTgSxS4v3"
      },
      "execution_count": 22,
      "outputs": []
    },
    {
      "cell_type": "code",
      "source": [
        "closing_price = model.predict(X_test)\n",
        "closing_price_transformed = scaler.inverse_transform(closing_price)\n",
        "\n"
      ],
      "metadata": {
        "id": "0Ff-teycXqSM"
      },
      "execution_count": 23,
      "outputs": []
    },
    {
      "cell_type": "code",
      "source": [
        "rms=np.sqrt(np.mean(np.power((test-closing_price_transformed),2)))\n",
        "rms"
      ],
      "metadata": {
        "colab": {
          "base_uri": "https://localhost:8080/"
        },
        "id": "RxJE9YizS6x3",
        "outputId": "d2f337b0-1567-466a-d0d4-c4a4b75b00ee"
      },
      "execution_count": 24,
      "outputs": [
        {
          "output_type": "execute_result",
          "data": {
            "text/plain": [
              "3339.0180998483593"
            ]
          },
          "metadata": {},
          "execution_count": 24
        }
      ]
    },
    {
      "cell_type": "code",
      "source": [
        "from sklearn.metrics import mean_absolute_error,mean_squared_error\n",
        "\n",
        "preds = closing_price_transformed.squeeze()\n",
        "MAE=mean_absolute_error(preds, test)\n",
        "\n",
        "MSE = mean_squared_error(test, closing_price)\n",
        "print(f'MSE score is {MSE}.')\n",
        "print(f'MAE score is {MAE}.')"
      ],
      "metadata": {
        "colab": {
          "base_uri": "https://localhost:8080/"
        },
        "id": "sU0f2rE6QnDE",
        "outputId": "76739948-8695-4a72-d6bc-6004452fc632"
      },
      "execution_count": 25,
      "outputs": [
        {
          "output_type": "stream",
          "name": "stdout",
          "text": [
            "MSE score is 771049123.1421676.\n",
            "MAE score is 1986.0678676811895.\n"
          ]
        }
      ]
    },
    {
      "cell_type": "code",
      "source": [
        "split_row = len(df) - int(0.2 * len(df))\n",
        "train = df.iloc[:split_row]\n",
        "test = df.iloc[split_row:]"
      ],
      "metadata": {
        "id": "IpE2w90RaJjU"
      },
      "execution_count": 52,
      "outputs": []
    },
    {
      "cell_type": "code",
      "source": [
        "test['Predictions']=closing_price_transformed\n",
        "\n"
      ],
      "metadata": {
        "colab": {
          "base_uri": "https://localhost:8080/"
        },
        "id": "Sp4yMrR1Wb0o",
        "outputId": "472d67c7-93ec-4cb7-e5a7-d2e31a2b422d"
      },
      "execution_count": 53,
      "outputs": [
        {
          "output_type": "stream",
          "name": "stderr",
          "text": [
            "/usr/local/lib/python3.7/dist-packages/ipykernel_launcher.py:1: SettingWithCopyWarning: \n",
            "A value is trying to be set on a copy of a slice from a DataFrame.\n",
            "Try using .loc[row_indexer,col_indexer] = value instead\n",
            "\n",
            "See the caveats in the documentation: https://pandas.pydata.org/pandas-docs/stable/user_guide/indexing.html#returning-a-view-versus-a-copy\n",
            "  \"\"\"Entry point for launching an IPython kernel.\n"
          ]
        }
      ]
    },
    {
      "cell_type": "code",
      "source": [
        "test"
      ],
      "metadata": {
        "colab": {
          "base_uri": "https://localhost:8080/",
          "height": 454
        },
        "id": "NPjEYi826qHb",
        "outputId": "ae49e47c-fca8-46fa-8334-32a9f9072f52"
      },
      "execution_count": 54,
      "outputs": [
        {
          "output_type": "execute_result",
          "data": {
            "text/html": [
              "\n",
              "  <div id=\"df-cebf761a-9847-4334-b6ef-422ec2f2a926\">\n",
              "    <div class=\"colab-df-container\">\n",
              "      <div>\n",
              "<style scoped>\n",
              "    .dataframe tbody tr th:only-of-type {\n",
              "        vertical-align: middle;\n",
              "    }\n",
              "\n",
              "    .dataframe tbody tr th {\n",
              "        vertical-align: top;\n",
              "    }\n",
              "\n",
              "    .dataframe thead th {\n",
              "        text-align: right;\n",
              "    }\n",
              "</style>\n",
              "<table border=\"1\" class=\"dataframe\">\n",
              "  <thead>\n",
              "    <tr style=\"text-align: right;\">\n",
              "      <th></th>\n",
              "      <th>Close</th>\n",
              "      <th>Predictions</th>\n",
              "    </tr>\n",
              "    <tr>\n",
              "      <th>Date</th>\n",
              "      <th></th>\n",
              "      <th></th>\n",
              "    </tr>\n",
              "  </thead>\n",
              "  <tbody>\n",
              "    <tr>\n",
              "      <th>2019-11-17</th>\n",
              "      <td>8577.97578160</td>\n",
              "      <td>8317.24218750</td>\n",
              "    </tr>\n",
              "    <tr>\n",
              "      <th>2019-11-18</th>\n",
              "      <td>8309.28598342</td>\n",
              "      <td>8314.31250000</td>\n",
              "    </tr>\n",
              "    <tr>\n",
              "      <th>2019-11-19</th>\n",
              "      <td>8206.14591807</td>\n",
              "      <td>8203.85058594</td>\n",
              "    </tr>\n",
              "    <tr>\n",
              "      <th>2019-11-20</th>\n",
              "      <td>8027.26824331</td>\n",
              "      <td>8071.49072266</td>\n",
              "    </tr>\n",
              "    <tr>\n",
              "      <th>2019-11-21</th>\n",
              "      <td>7642.74994484</td>\n",
              "      <td>7913.37890625</td>\n",
              "    </tr>\n",
              "    <tr>\n",
              "      <th>...</th>\n",
              "      <td>...</td>\n",
              "      <td>...</td>\n",
              "    </tr>\n",
              "    <tr>\n",
              "      <th>2021-07-02</th>\n",
              "      <td>33897.04858963</td>\n",
              "      <td>31402.99414062</td>\n",
              "    </tr>\n",
              "    <tr>\n",
              "      <th>2021-07-03</th>\n",
              "      <td>34668.54840182</td>\n",
              "      <td>30895.94335938</td>\n",
              "    </tr>\n",
              "    <tr>\n",
              "      <th>2021-07-04</th>\n",
              "      <td>35287.77976616</td>\n",
              "      <td>31174.54882812</td>\n",
              "    </tr>\n",
              "    <tr>\n",
              "      <th>2021-07-05</th>\n",
              "      <td>33746.00245614</td>\n",
              "      <td>31805.62304688</td>\n",
              "    </tr>\n",
              "    <tr>\n",
              "      <th>2021-07-06</th>\n",
              "      <td>34235.19345116</td>\n",
              "      <td>31355.53320312</td>\n",
              "    </tr>\n",
              "  </tbody>\n",
              "</table>\n",
              "<p>598 rows × 2 columns</p>\n",
              "</div>\n",
              "      <button class=\"colab-df-convert\" onclick=\"convertToInteractive('df-cebf761a-9847-4334-b6ef-422ec2f2a926')\"\n",
              "              title=\"Convert this dataframe to an interactive table.\"\n",
              "              style=\"display:none;\">\n",
              "        \n",
              "  <svg xmlns=\"http://www.w3.org/2000/svg\" height=\"24px\"viewBox=\"0 0 24 24\"\n",
              "       width=\"24px\">\n",
              "    <path d=\"M0 0h24v24H0V0z\" fill=\"none\"/>\n",
              "    <path d=\"M18.56 5.44l.94 2.06.94-2.06 2.06-.94-2.06-.94-.94-2.06-.94 2.06-2.06.94zm-11 1L8.5 8.5l.94-2.06 2.06-.94-2.06-.94L8.5 2.5l-.94 2.06-2.06.94zm10 10l.94 2.06.94-2.06 2.06-.94-2.06-.94-.94-2.06-.94 2.06-2.06.94z\"/><path d=\"M17.41 7.96l-1.37-1.37c-.4-.4-.92-.59-1.43-.59-.52 0-1.04.2-1.43.59L10.3 9.45l-7.72 7.72c-.78.78-.78 2.05 0 2.83L4 21.41c.39.39.9.59 1.41.59.51 0 1.02-.2 1.41-.59l7.78-7.78 2.81-2.81c.8-.78.8-2.07 0-2.86zM5.41 20L4 18.59l7.72-7.72 1.47 1.35L5.41 20z\"/>\n",
              "  </svg>\n",
              "      </button>\n",
              "      \n",
              "  <style>\n",
              "    .colab-df-container {\n",
              "      display:flex;\n",
              "      flex-wrap:wrap;\n",
              "      gap: 12px;\n",
              "    }\n",
              "\n",
              "    .colab-df-convert {\n",
              "      background-color: #E8F0FE;\n",
              "      border: none;\n",
              "      border-radius: 50%;\n",
              "      cursor: pointer;\n",
              "      display: none;\n",
              "      fill: #1967D2;\n",
              "      height: 32px;\n",
              "      padding: 0 0 0 0;\n",
              "      width: 32px;\n",
              "    }\n",
              "\n",
              "    .colab-df-convert:hover {\n",
              "      background-color: #E2EBFA;\n",
              "      box-shadow: 0px 1px 2px rgba(60, 64, 67, 0.3), 0px 1px 3px 1px rgba(60, 64, 67, 0.15);\n",
              "      fill: #174EA6;\n",
              "    }\n",
              "\n",
              "    [theme=dark] .colab-df-convert {\n",
              "      background-color: #3B4455;\n",
              "      fill: #D2E3FC;\n",
              "    }\n",
              "\n",
              "    [theme=dark] .colab-df-convert:hover {\n",
              "      background-color: #434B5C;\n",
              "      box-shadow: 0px 1px 3px 1px rgba(0, 0, 0, 0.15);\n",
              "      filter: drop-shadow(0px 1px 2px rgba(0, 0, 0, 0.3));\n",
              "      fill: #FFFFFF;\n",
              "    }\n",
              "  </style>\n",
              "\n",
              "      <script>\n",
              "        const buttonEl =\n",
              "          document.querySelector('#df-cebf761a-9847-4334-b6ef-422ec2f2a926 button.colab-df-convert');\n",
              "        buttonEl.style.display =\n",
              "          google.colab.kernel.accessAllowed ? 'block' : 'none';\n",
              "\n",
              "        async function convertToInteractive(key) {\n",
              "          const element = document.querySelector('#df-cebf761a-9847-4334-b6ef-422ec2f2a926');\n",
              "          const dataTable =\n",
              "            await google.colab.kernel.invokeFunction('convertToInteractive',\n",
              "                                                     [key], {});\n",
              "          if (!dataTable) return;\n",
              "\n",
              "          const docLinkHtml = 'Like what you see? Visit the ' +\n",
              "            '<a target=\"_blank\" href=https://colab.research.google.com/notebooks/data_table.ipynb>data table notebook</a>'\n",
              "            + ' to learn more about interactive tables.';\n",
              "          element.innerHTML = '';\n",
              "          dataTable['output_type'] = 'display_data';\n",
              "          await google.colab.output.renderOutput(dataTable, element);\n",
              "          const docLink = document.createElement('div');\n",
              "          docLink.innerHTML = docLinkHtml;\n",
              "          element.appendChild(docLink);\n",
              "        }\n",
              "      </script>\n",
              "    </div>\n",
              "  </div>\n",
              "  "
            ],
            "text/plain": [
              "                     Close     Predictions\n",
              "Date                                      \n",
              "2019-11-17   8577.97578160   8317.24218750\n",
              "2019-11-18   8309.28598342   8314.31250000\n",
              "2019-11-19   8206.14591807   8203.85058594\n",
              "2019-11-20   8027.26824331   8071.49072266\n",
              "2019-11-21   7642.74994484   7913.37890625\n",
              "...                    ...             ...\n",
              "2021-07-02  33897.04858963  31402.99414062\n",
              "2021-07-03  34668.54840182  30895.94335938\n",
              "2021-07-04  35287.77976616  31174.54882812\n",
              "2021-07-05  33746.00245614  31805.62304688\n",
              "2021-07-06  34235.19345116  31355.53320312\n",
              "\n",
              "[598 rows x 2 columns]"
            ]
          },
          "metadata": {},
          "execution_count": 54
        }
      ]
    },
    {
      "cell_type": "code",
      "source": [
        "import matplotlib.pyplot as plt\n",
        "plt.figure(figsize=(16,10))\n",
        "plt.plot(train['Close'],label='test price')\n",
        "plt.plot(test,c='orange',label='actual price')\n",
        "plt.plot(test['Predictions'],c='green',label='predicted price')\n",
        "plt.legend()"
      ],
      "metadata": {
        "colab": {
          "base_uri": "https://localhost:8080/",
          "height": 610
        },
        "id": "2JnGyw0Xan8r",
        "outputId": "41a127e6-9e7c-400a-c316-8b5e5d134109"
      },
      "execution_count": 55,
      "outputs": [
        {
          "output_type": "execute_result",
          "data": {
            "text/plain": [
              "<matplotlib.legend.Legend at 0x7f4a4d5dc2d0>"
            ]
          },
          "metadata": {},
          "execution_count": 55
        },
        {
          "output_type": "display_data",
          "data": {
            "image/png": "[encoded data removed]",
            "text/plain": [
              "<Figure size 1152x720 with 1 Axes>"
            ]
          },
          "metadata": {
            "needs_background": "light"
          }
        }
      ]
    },
    {
      "cell_type": "code",
      "source": [
        ""
      ],
      "metadata": {
        "colab": {
          "base_uri": "https://localhost:8080/",
          "height": 455
        },
        "id": "vSv_wE6JDOOE",
        "outputId": "d81191fb-d47d-4780-9893-b8ee65e8fa8d"
      },
      "execution_count": null,
      "outputs": [
        {
          "output_type": "execute_result",
          "data": {
            "text/html": [
              "\n",
              "  <div id=\"df-a9370ebe-5df3-4e8b-ada2-de540b4ed901\">\n",
              "    <div class=\"colab-df-container\">\n",
              "      <div>\n",
              "<style scoped>\n",
              "    .dataframe tbody tr th:only-of-type {\n",
              "        vertical-align: middle;\n",
              "    }\n",
              "\n",
              "    .dataframe tbody tr th {\n",
              "        vertical-align: top;\n",
              "    }\n",
              "\n",
              "    .dataframe thead th {\n",
              "        text-align: right;\n",
              "    }\n",
              "</style>\n",
              "<table border=\"1\" class=\"dataframe\">\n",
              "  <thead>\n",
              "    <tr style=\"text-align: right;\">\n",
              "      <th></th>\n",
              "      <th>Close</th>\n",
              "      <th>Predictions</th>\n",
              "    </tr>\n",
              "    <tr>\n",
              "      <th>Date</th>\n",
              "      <th></th>\n",
              "      <th></th>\n",
              "    </tr>\n",
              "  </thead>\n",
              "  <tbody>\n",
              "    <tr>\n",
              "      <th>2019-11-17</th>\n",
              "      <td>8577.97578160</td>\n",
              "      <td>8317.24218750</td>\n",
              "    </tr>\n",
              "    <tr>\n",
              "      <th>2019-11-18</th>\n",
              "      <td>8309.28598342</td>\n",
              "      <td>8314.31250000</td>\n",
              "    </tr>\n",
              "    <tr>\n",
              "      <th>2019-11-19</th>\n",
              "      <td>8206.14591807</td>\n",
              "      <td>8203.85058594</td>\n",
              "    </tr>\n",
              "    <tr>\n",
              "      <th>2019-11-20</th>\n",
              "      <td>8027.26824331</td>\n",
              "      <td>8071.49072266</td>\n",
              "    </tr>\n",
              "    <tr>\n",
              "      <th>2019-11-21</th>\n",
              "      <td>7642.74994484</td>\n",
              "      <td>7913.37890625</td>\n",
              "    </tr>\n",
              "    <tr>\n",
              "      <th>...</th>\n",
              "      <td>...</td>\n",
              "      <td>...</td>\n",
              "    </tr>\n",
              "    <tr>\n",
              "      <th>2021-07-02</th>\n",
              "      <td>33897.04858963</td>\n",
              "      <td>31402.99414062</td>\n",
              "    </tr>\n",
              "    <tr>\n",
              "      <th>2021-07-03</th>\n",
              "      <td>34668.54840182</td>\n",
              "      <td>30895.94335938</td>\n",
              "    </tr>\n",
              "    <tr>\n",
              "      <th>2021-07-04</th>\n",
              "      <td>35287.77976616</td>\n",
              "      <td>31174.54882812</td>\n",
              "    </tr>\n",
              "    <tr>\n",
              "      <th>2021-07-05</th>\n",
              "      <td>33746.00245614</td>\n",
              "      <td>31805.62304688</td>\n",
              "    </tr>\n",
              "    <tr>\n",
              "      <th>2021-07-06</th>\n",
              "      <td>34235.19345116</td>\n",
              "      <td>31355.53320312</td>\n",
              "    </tr>\n",
              "  </tbody>\n",
              "</table>\n",
              "<p>598 rows × 2 columns</p>\n",
              "</div>\n",
              "      <button class=\"colab-df-convert\" onclick=\"convertToInteractive('df-a9370ebe-5df3-4e8b-ada2-de540b4ed901')\"\n",
              "              title=\"Convert this dataframe to an interactive table.\"\n",
              "              style=\"display:none;\">\n",
              "        \n",
              "  <svg xmlns=\"http://www.w3.org/2000/svg\" height=\"24px\"viewBox=\"0 0 24 24\"\n",
              "       width=\"24px\">\n",
              "    <path d=\"M0 0h24v24H0V0z\" fill=\"none\"/>\n",
              "    <path d=\"M18.56 5.44l.94 2.06.94-2.06 2.06-.94-2.06-.94-.94-2.06-.94 2.06-2.06.94zm-11 1L8.5 8.5l.94-2.06 2.06-.94-2.06-.94L8.5 2.5l-.94 2.06-2.06.94zm10 10l.94 2.06.94-2.06 2.06-.94-2.06-.94-.94-2.06-.94 2.06-2.06.94z\"/><path d=\"M17.41 7.96l-1.37-1.37c-.4-.4-.92-.59-1.43-.59-.52 0-1.04.2-1.43.59L10.3 9.45l-7.72 7.72c-.78.78-.78 2.05 0 2.83L4 21.41c.39.39.9.59 1.41.59.51 0 1.02-.2 1.41-.59l7.78-7.78 2.81-2.81c.8-.78.8-2.07 0-2.86zM5.41 20L4 18.59l7.72-7.72 1.47 1.35L5.41 20z\"/>\n",
              "  </svg>\n",
              "      </button>\n",
              "      \n",
              "  <style>\n",
              "    .colab-df-container {\n",
              "      display:flex;\n",
              "      flex-wrap:wrap;\n",
              "      gap: 12px;\n",
              "    }\n",
              "\n",
              "    .colab-df-convert {\n",
              "      background-color: #E8F0FE;\n",
              "      border: none;\n",
              "      border-radius: 50%;\n",
              "      cursor: pointer;\n",
              "      display: none;\n",
              "      fill: #1967D2;\n",
              "      height: 32px;\n",
              "      padding: 0 0 0 0;\n",
              "      width: 32px;\n",
              "    }\n",
              "\n",
              "    .colab-df-convert:hover {\n",
              "      background-color: #E2EBFA;\n",
              "      box-shadow: 0px 1px 2px rgba(60, 64, 67, 0.3), 0px 1px 3px 1px rgba(60, 64, 67, 0.15);\n",
              "      fill: #174EA6;\n",
              "    }\n",
              "\n",
              "    [theme=dark] .colab-df-convert {\n",
              "      background-color: #3B4455;\n",
              "      fill: #D2E3FC;\n",
              "    }\n",
              "\n",
              "    [theme=dark] .colab-df-convert:hover {\n",
              "      background-color: #434B5C;\n",
              "      box-shadow: 0px 1px 3px 1px rgba(0, 0, 0, 0.15);\n",
              "      filter: drop-shadow(0px 1px 2px rgba(0, 0, 0, 0.3));\n",
              "      fill: #FFFFFF;\n",
              "    }\n",
              "  </style>\n",
              "\n",
              "      <script>\n",
              "        const buttonEl =\n",
              "          document.querySelector('#df-a9370ebe-5df3-4e8b-ada2-de540b4ed901 button.colab-df-convert');\n",
              "        buttonEl.style.display =\n",
              "          google.colab.kernel.accessAllowed ? 'block' : 'none';\n",
              "\n",
              "        async function convertToInteractive(key) {\n",
              "          const element = document.querySelector('#df-a9370ebe-5df3-4e8b-ada2-de540b4ed901');\n",
              "          const dataTable =\n",
              "            await google.colab.kernel.invokeFunction('convertToInteractive',\n",
              "                                                     [key], {});\n",
              "          if (!dataTable) return;\n",
              "\n",
              "          const docLinkHtml = 'Like what you see? Visit the ' +\n",
              "            '<a target=\"_blank\" href=https://colab.research.google.com/notebooks/data_table.ipynb>data table notebook</a>'\n",
              "            + ' to learn more about interactive tables.';\n",
              "          element.innerHTML = '';\n",
              "          dataTable['output_type'] = 'display_data';\n",
              "          await google.colab.output.renderOutput(dataTable, element);\n",
              "          const docLink = document.createElement('div');\n",
              "          docLink.innerHTML = docLinkHtml;\n",
              "          element.appendChild(docLink);\n",
              "        }\n",
              "      </script>\n",
              "    </div>\n",
              "  </div>\n",
              "  "
            ],
            "text/plain": [
              "                     Close     Predictions\n",
              "Date                                      \n",
              "2019-11-17   8577.97578160   8317.24218750\n",
              "2019-11-18   8309.28598342   8314.31250000\n",
              "2019-11-19   8206.14591807   8203.85058594\n",
              "2019-11-20   8027.26824331   8071.49072266\n",
              "2019-11-21   7642.74994484   7913.37890625\n",
              "...                    ...             ...\n",
              "2021-07-02  33897.04858963  31402.99414062\n",
              "2021-07-03  34668.54840182  30895.94335938\n",
              "2021-07-04  35287.77976616  31174.54882812\n",
              "2021-07-05  33746.00245614  31805.62304688\n",
              "2021-07-06  34235.19345116  31355.53320312\n",
              "\n",
              "[598 rows x 2 columns]"
            ]
          },
          "metadata": {},
          "execution_count": 79
        }
      ]
    },
    {
      "cell_type": "code",
      "source": [
        "plt.figure(figsize=(15,10))\n",
        "plt.plot(test['Close'],c='orange',label='Actual Price')\n",
        "plt.plot(test['Predictions'],label='Predicted Price')\n",
        "plt.title('Varians between Prediction and Actual Data')\n",
        "plt.legend()\n"
      ],
      "metadata": {
        "colab": {
          "base_uri": "https://localhost:8080/",
          "height": 625
        },
        "id": "gwfPw6svC1ut",
        "outputId": "a2750073-884b-422f-b275-054a766e84d9"
      },
      "execution_count": 56,
      "outputs": [
        {
          "output_type": "execute_result",
          "data": {
            "text/plain": [
              "<matplotlib.legend.Legend at 0x7f4a4d6df150>"
            ]
          },
          "metadata": {},
          "execution_count": 56
        },
        {
          "output_type": "display_data",
          "data": {
            "image/png": "[encoded data removed]",
            "text/plain": [
              "<Figure size 1080x720 with 1 Axes>"
            ]
          },
          "metadata": {
            "needs_background": "light"
          }
        }
      ]
    },
    {
      "cell_type": "code",
      "source": [
        "len(test)"
      ],
      "metadata": {
        "colab": {
          "base_uri": "https://localhost:8080/"
        },
        "id": "Qp9UvuDsHIMU",
        "outputId": "03fd29c3-74b1-4738-f422-1e5ae4385a00"
      },
      "execution_count": 57,
      "outputs": [
        {
          "output_type": "execute_result",
          "data": {
            "text/plain": [
              "598"
            ]
          },
          "metadata": {},
          "execution_count": 57
        }
      ]
    },
    {
      "cell_type": "code",
      "source": [
        "# prediction price in 30 days\n",
        "len(test)\n",
        "# test=test.drop('Predictions',1)\n",
        "test=np.array(test)\n",
        "# x_input=scaler.fit_transform(test[len(test)-60:]).reshape(1,-1)\n",
        "\n",
        "x_input.shape\n"
      ],
      "metadata": {
        "colab": {
          "base_uri": "https://localhost:8080/"
        },
        "id": "uyzwYwK-8KjG",
        "outputId": "87cdca81-2c18-492f-a6f7-2729792d96ec"
      },
      "execution_count": 59,
      "outputs": [
        {
          "output_type": "execute_result",
          "data": {
            "text/plain": [
              "(1, 120)"
            ]
          },
          "metadata": {},
          "execution_count": 59
        }
      ]
    },
    {
      "cell_type": "code",
      "source": [
        "x_input"
      ],
      "metadata": {
        "colab": {
          "base_uri": "https://localhost:8080/"
        },
        "id": "EUJrLgnm9yEn",
        "outputId": "8790722d-f158-4737-b21a-bb253a85cab0"
      },
      "execution_count": 44,
      "outputs": [
        {
          "output_type": "execute_result",
          "data": {
            "text/plain": [
              "array([[1.        , 0.94591204, 0.97896416, 0.99576524, 0.89163003,\n",
              "        1.        , 0.92272682, 0.92881931, 0.64465717, 0.91045858,\n",
              "        0.66547944, 0.71744541, 0.67152898, 0.63342911, 0.55666675,\n",
              "        0.63005235, 0.54547157, 0.57268772, 0.43803774, 0.53946763,\n",
              "        0.41491654, 0.46104747, 0.19747704, 0.40992644, 0.33663254,\n",
              "        0.25158994, 0.20860309, 0.26362879, 0.21714098, 0.22035417,\n",
              "        0.11532077, 0.20315717, 0.26018551, 0.1356132 , 0.24900408,\n",
              "        0.1961822 , 0.28183827, 0.24193707, 0.25028306, 0.28209434,\n",
              "        0.14944515, 0.27487903, 0.10963294, 0.19294986, 0.14872818,\n",
              "        0.11560932, 0.20963979, 0.10957691, 0.18578905, 0.1648941 ,\n",
              "        0.21855998, 0.1877897 , 0.27869348, 0.21388367, 0.19350019,\n",
              "        0.26499199, 0.14408375, 0.23263789, 0.1555105 , 0.16807666,\n",
              "        0.07078437, 0.14036053, 0.06754222, 0.08046478, 0.21009138,\n",
              "        0.04819534, 0.18643967, 0.13687731, 0.20969669, 0.18636601,\n",
              "        0.14410431, 0.21605782, 0.27461098, 0.17848144, 0.31586171,\n",
              "        0.23460058, 0.32277444, 0.30344471, 0.24697358, 0.33869762,\n",
              "        0.23616746, 0.29277071, 0.15274481, 0.24777755, 0.14643635,\n",
              "        0.17181712, 0.14947055, 0.13045541, 0.00143244, 0.12396239,\n",
              "        0.03194728, 0.03358932, 0.07675952, 0.        , 0.11133977,\n",
              "        0.02851055, 0.        , 0.08008311, 0.02019059, 0.03529414,\n",
              "        0.11086892, 0.00914403, 0.10294323, 0.06052748, 0.15570928,\n",
              "        0.09440882, 0.125269  , 0.14091987, 0.07120437, 0.14152072,\n",
              "        0.08316531, 0.09481929, 0.11156478, 0.07123845, 0.13435914,\n",
              "        0.08419524, 0.0776052 , 0.1135439 , 0.09561267, 0.09261208]])"
            ]
          },
          "metadata": {},
          "execution_count": 44
        }
      ]
    },
    {
      "cell_type": "code",
      "source": [
        "temp_input=list(x_input)\n",
        "# temp_input=temp_input[0].tolist()"
      ],
      "metadata": {
        "id": "S_RJoPJS8taz"
      },
      "execution_count": 45,
      "outputs": []
    },
    {
      "cell_type": "code",
      "source": [
        "from numpy import array\n",
        "lst_output=[]\n",
        "n_steps=60\n",
        "i=0\n",
        "while(i<30):\n",
        "  if(len(temp_input)>60):\n",
        "    x_input=np.array(temp_input[1:])\n",
        "    print('{} day input {}'.format(i,x_input))\n",
        "    x_input=x_input.reshape(1,-1)\n",
        "    x_input=x_input.reshape((1,n_steps,1))\n",
        "    yhat=model.predict(x_input,verbose=1)\n",
        "    print('{} day input {}'.format(i,yhat))\n",
        "    temp_input.extend(yhat[0].tolist())\n",
        "    temp_input=temp_input[1:]\n",
        "    lst_output.extend(yhat.tolist())\n",
        "    i+=1\n",
        "\n",
        "  else:\n",
        "      x_input=x_input.reshape((1,n_steps,1))\n",
        "      yhat=model.predict(x_input,verbose=1)\n",
        "      print(yhat[0])\n",
        "      temp_input.extend(yhat[0].tolist())\n",
        "      print(len(temp_input))\n",
        "      lst_output.extend(yhat.tolist())\n",
        "      i+=1\n",
        "\n"
      ],
      "metadata": {
        "colab": {
          "base_uri": "https://localhost:8080/",
          "height": 246
        },
        "id": "Nbat8R1o-WFw",
        "outputId": "8cb36845-5fbb-4f96-dbe0-76a1b72f9c18"
      },
      "execution_count": 46,
      "outputs": [
        {
          "output_type": "error",
          "ename": "ValueError",
          "evalue": "ignored",
          "traceback": [
            "\u001b[0;31m---------------------------------------------------------------------------\u001b[0m",
            "\u001b[0;31mValueError\u001b[0m                                Traceback (most recent call last)",
            "\u001b[0;32m<ipython-input-46-ab9e26d08ebd>\u001b[0m in \u001b[0;36m<module>\u001b[0;34m()\u001b[0m\n\u001b[1;32m     17\u001b[0m \u001b[0;34m\u001b[0m\u001b[0m\n\u001b[1;32m     18\u001b[0m   \u001b[0;32melse\u001b[0m\u001b[0;34m:\u001b[0m\u001b[0;34m\u001b[0m\u001b[0;34m\u001b[0m\u001b[0m\n\u001b[0;32m---> 19\u001b[0;31m       \u001b[0mx_input\u001b[0m\u001b[0;34m=\u001b[0m\u001b[0mx_input\u001b[0m\u001b[0;34m.\u001b[0m\u001b[0mreshape\u001b[0m\u001b[0;34m(\u001b[0m\u001b[0;34m(\u001b[0m\u001b[0;36m1\u001b[0m\u001b[0;34m,\u001b[0m\u001b[0mn_steps\u001b[0m\u001b[0;34m,\u001b[0m\u001b[0;36m1\u001b[0m\u001b[0;34m)\u001b[0m\u001b[0;34m)\u001b[0m\u001b[0;34m\u001b[0m\u001b[0;34m\u001b[0m\u001b[0m\n\u001b[0m\u001b[1;32m     20\u001b[0m       \u001b[0myhat\u001b[0m\u001b[0;34m=\u001b[0m\u001b[0mmodel\u001b[0m\u001b[0;34m.\u001b[0m\u001b[0mpredict\u001b[0m\u001b[0;34m(\u001b[0m\u001b[0mx_input\u001b[0m\u001b[0;34m,\u001b[0m\u001b[0mverbose\u001b[0m\u001b[0;34m=\u001b[0m\u001b[0;36m1\u001b[0m\u001b[0;34m)\u001b[0m\u001b[0;34m\u001b[0m\u001b[0;34m\u001b[0m\u001b[0m\n\u001b[1;32m     21\u001b[0m       \u001b[0mprint\u001b[0m\u001b[0;34m(\u001b[0m\u001b[0myhat\u001b[0m\u001b[0;34m[\u001b[0m\u001b[0;36m0\u001b[0m\u001b[0;34m]\u001b[0m\u001b[0;34m)\u001b[0m\u001b[0;34m\u001b[0m\u001b[0;34m\u001b[0m\u001b[0m\n",
            "\u001b[0;31mValueError\u001b[0m: cannot reshape array of size 120 into shape (1,60,1)"
          ]
        }
      ]
    },
    {
      "cell_type": "code",
      "source": [
        "day_new=np.arange(1,61)\n",
        "day_pred=np.arange(61,91)"
      ],
      "metadata": {
        "id": "_oJbzNX_BN_H"
      },
      "execution_count": null,
      "outputs": []
    },
    {
      "cell_type": "code",
      "source": [
        "df=scaler.fit_transform(np.array(df).reshape(-1,1))"
      ],
      "metadata": {
        "colab": {
          "base_uri": "https://localhost:8080/",
          "height": 312
        },
        "id": "nOmPWxCfBVR5",
        "outputId": "2f7b2690-1d37-42cf-d2dd-f8fb08990727"
      },
      "execution_count": null,
      "outputs": [
        {
          "output_type": "error",
          "ename": "TypeError",
          "evalue": "ignored",
          "traceback": [
            "\u001b[0;31m---------------------------------------------------------------------------\u001b[0m",
            "\u001b[0;31mTypeError\u001b[0m                                 Traceback (most recent call last)",
            "\u001b[0;32m<ipython-input-178-2433864f63e4>\u001b[0m in \u001b[0;36m<module>\u001b[0;34m()\u001b[0m\n\u001b[0;32m----> 1\u001b[0;31m \u001b[0mdf\u001b[0m\u001b[0;34m=\u001b[0m\u001b[0mscaler\u001b[0m\u001b[0;34m.\u001b[0m\u001b[0mfit_transform\u001b[0m\u001b[0;34m(\u001b[0m\u001b[0mnp\u001b[0m\u001b[0;34m.\u001b[0m\u001b[0marray\u001b[0m\u001b[0;34m(\u001b[0m\u001b[0mdf\u001b[0m\u001b[0;34m)\u001b[0m\u001b[0;34m.\u001b[0m\u001b[0mreshape\u001b[0m\u001b[0;34m(\u001b[0m\u001b[0;34m-\u001b[0m\u001b[0;36m1\u001b[0m\u001b[0;34m,\u001b[0m\u001b[0;36m1\u001b[0m\u001b[0;34m)\u001b[0m\u001b[0;34m)\u001b[0m\u001b[0;34m\u001b[0m\u001b[0;34m\u001b[0m\u001b[0m\n\u001b[0m",
            "\u001b[0;32m/usr/local/lib/python3.7/dist-packages/sklearn/base.py\u001b[0m in \u001b[0;36mfit_transform\u001b[0;34m(self, X, y, **fit_params)\u001b[0m\n\u001b[1;32m    850\u001b[0m         \u001b[0;32mif\u001b[0m \u001b[0my\u001b[0m \u001b[0;32mis\u001b[0m \u001b[0;32mNone\u001b[0m\u001b[0;34m:\u001b[0m\u001b[0;34m\u001b[0m\u001b[0;34m\u001b[0m\u001b[0m\n\u001b[1;32m    851\u001b[0m             \u001b[0;31m# fit method of arity 1 (unsupervised transformation)\u001b[0m\u001b[0;34m\u001b[0m\u001b[0;34m\u001b[0m\u001b[0;34m\u001b[0m\u001b[0m\n\u001b[0;32m--> 852\u001b[0;31m             \u001b[0;32mreturn\u001b[0m \u001b[0mself\u001b[0m\u001b[0;34m.\u001b[0m\u001b[0mfit\u001b[0m\u001b[0;34m(\u001b[0m\u001b[0mX\u001b[0m\u001b[0;34m,\u001b[0m \u001b[0;34m**\u001b[0m\u001b[0mfit_params\u001b[0m\u001b[0;34m)\u001b[0m\u001b[0;34m.\u001b[0m\u001b[0mtransform\u001b[0m\u001b[0;34m(\u001b[0m\u001b[0mX\u001b[0m\u001b[0;34m)\u001b[0m\u001b[0;34m\u001b[0m\u001b[0;34m\u001b[0m\u001b[0m\n\u001b[0m\u001b[1;32m    853\u001b[0m         \u001b[0;32melse\u001b[0m\u001b[0;34m:\u001b[0m\u001b[0;34m\u001b[0m\u001b[0;34m\u001b[0m\u001b[0m\n\u001b[1;32m    854\u001b[0m             \u001b[0;31m# fit method of arity 2 (supervised transformation)\u001b[0m\u001b[0;34m\u001b[0m\u001b[0;34m\u001b[0m\u001b[0;34m\u001b[0m\u001b[0m\n",
            "\u001b[0;32m/usr/local/lib/python3.7/dist-packages/sklearn/preprocessing/_data.py\u001b[0m in \u001b[0;36mfit\u001b[0;34m(self, X, y)\u001b[0m\n\u001b[1;32m    414\u001b[0m         \u001b[0;31m# Reset internal state before fitting\u001b[0m\u001b[0;34m\u001b[0m\u001b[0;34m\u001b[0m\u001b[0;34m\u001b[0m\u001b[0m\n\u001b[1;32m    415\u001b[0m         \u001b[0mself\u001b[0m\u001b[0;34m.\u001b[0m\u001b[0m_reset\u001b[0m\u001b[0;34m(\u001b[0m\u001b[0;34m)\u001b[0m\u001b[0;34m\u001b[0m\u001b[0;34m\u001b[0m\u001b[0m\n\u001b[0;32m--> 416\u001b[0;31m         \u001b[0;32mreturn\u001b[0m \u001b[0mself\u001b[0m\u001b[0;34m.\u001b[0m\u001b[0mpartial_fit\u001b[0m\u001b[0;34m(\u001b[0m\u001b[0mX\u001b[0m\u001b[0;34m,\u001b[0m \u001b[0my\u001b[0m\u001b[0;34m)\u001b[0m\u001b[0;34m\u001b[0m\u001b[0;34m\u001b[0m\u001b[0m\n\u001b[0m\u001b[1;32m    417\u001b[0m \u001b[0;34m\u001b[0m\u001b[0m\n\u001b[1;32m    418\u001b[0m     \u001b[0;32mdef\u001b[0m \u001b[0mpartial_fit\u001b[0m\u001b[0;34m(\u001b[0m\u001b[0mself\u001b[0m\u001b[0;34m,\u001b[0m \u001b[0mX\u001b[0m\u001b[0;34m,\u001b[0m \u001b[0my\u001b[0m\u001b[0;34m=\u001b[0m\u001b[0;32mNone\u001b[0m\u001b[0;34m)\u001b[0m\u001b[0;34m:\u001b[0m\u001b[0;34m\u001b[0m\u001b[0;34m\u001b[0m\u001b[0m\n",
            "\u001b[0;32m/usr/local/lib/python3.7/dist-packages/sklearn/preprocessing/_data.py\u001b[0m in \u001b[0;36mpartial_fit\u001b[0;34m(self, X, y)\u001b[0m\n\u001b[1;32m    456\u001b[0m             \u001b[0mestimator\u001b[0m\u001b[0;34m=\u001b[0m\u001b[0mself\u001b[0m\u001b[0;34m,\u001b[0m\u001b[0;34m\u001b[0m\u001b[0;34m\u001b[0m\u001b[0m\n\u001b[1;32m    457\u001b[0m             \u001b[0mdtype\u001b[0m\u001b[0;34m=\u001b[0m\u001b[0mFLOAT_DTYPES\u001b[0m\u001b[0;34m,\u001b[0m\u001b[0;34m\u001b[0m\u001b[0;34m\u001b[0m\u001b[0m\n\u001b[0;32m--> 458\u001b[0;31m             \u001b[0mforce_all_finite\u001b[0m\u001b[0;34m=\u001b[0m\u001b[0;34m\"allow-nan\"\u001b[0m\u001b[0;34m,\u001b[0m\u001b[0;34m\u001b[0m\u001b[0;34m\u001b[0m\u001b[0m\n\u001b[0m\u001b[1;32m    459\u001b[0m         )\n\u001b[1;32m    460\u001b[0m \u001b[0;34m\u001b[0m\u001b[0m\n",
            "\u001b[0;32m/usr/local/lib/python3.7/dist-packages/sklearn/base.py\u001b[0m in \u001b[0;36m_validate_data\u001b[0;34m(self, X, y, reset, validate_separately, **check_params)\u001b[0m\n\u001b[1;32m    564\u001b[0m             \u001b[0;32mraise\u001b[0m \u001b[0mValueError\u001b[0m\u001b[0;34m(\u001b[0m\u001b[0;34m\"Validation should be done on X, y or both.\"\u001b[0m\u001b[0;34m)\u001b[0m\u001b[0;34m\u001b[0m\u001b[0;34m\u001b[0m\u001b[0m\n\u001b[1;32m    565\u001b[0m         \u001b[0;32melif\u001b[0m \u001b[0;32mnot\u001b[0m \u001b[0mno_val_X\u001b[0m \u001b[0;32mand\u001b[0m \u001b[0mno_val_y\u001b[0m\u001b[0;34m:\u001b[0m\u001b[0;34m\u001b[0m\u001b[0;34m\u001b[0m\u001b[0m\n\u001b[0;32m--> 566\u001b[0;31m             \u001b[0mX\u001b[0m \u001b[0;34m=\u001b[0m \u001b[0mcheck_array\u001b[0m\u001b[0;34m(\u001b[0m\u001b[0mX\u001b[0m\u001b[0;34m,\u001b[0m \u001b[0;34m**\u001b[0m\u001b[0mcheck_params\u001b[0m\u001b[0;34m)\u001b[0m\u001b[0;34m\u001b[0m\u001b[0;34m\u001b[0m\u001b[0m\n\u001b[0m\u001b[1;32m    567\u001b[0m             \u001b[0mout\u001b[0m \u001b[0;34m=\u001b[0m \u001b[0mX\u001b[0m\u001b[0;34m\u001b[0m\u001b[0;34m\u001b[0m\u001b[0m\n\u001b[1;32m    568\u001b[0m         \u001b[0;32melif\u001b[0m \u001b[0mno_val_X\u001b[0m \u001b[0;32mand\u001b[0m \u001b[0;32mnot\u001b[0m \u001b[0mno_val_y\u001b[0m\u001b[0;34m:\u001b[0m\u001b[0;34m\u001b[0m\u001b[0;34m\u001b[0m\u001b[0m\n",
            "\u001b[0;32m/usr/local/lib/python3.7/dist-packages/sklearn/utils/validation.py\u001b[0m in \u001b[0;36mcheck_array\u001b[0;34m(array, accept_sparse, accept_large_sparse, dtype, order, copy, force_all_finite, ensure_2d, allow_nd, ensure_min_samples, ensure_min_features, estimator)\u001b[0m\n\u001b[1;32m    744\u001b[0m                     \u001b[0marray\u001b[0m \u001b[0;34m=\u001b[0m \u001b[0marray\u001b[0m\u001b[0;34m.\u001b[0m\u001b[0mastype\u001b[0m\u001b[0;34m(\u001b[0m\u001b[0mdtype\u001b[0m\u001b[0;34m,\u001b[0m \u001b[0mcasting\u001b[0m\u001b[0;34m=\u001b[0m\u001b[0;34m\"unsafe\"\u001b[0m\u001b[0;34m,\u001b[0m \u001b[0mcopy\u001b[0m\u001b[0;34m=\u001b[0m\u001b[0;32mFalse\u001b[0m\u001b[0;34m)\u001b[0m\u001b[0;34m\u001b[0m\u001b[0;34m\u001b[0m\u001b[0m\n\u001b[1;32m    745\u001b[0m                 \u001b[0;32melse\u001b[0m\u001b[0;34m:\u001b[0m\u001b[0;34m\u001b[0m\u001b[0;34m\u001b[0m\u001b[0m\n\u001b[0;32m--> 746\u001b[0;31m                     \u001b[0marray\u001b[0m \u001b[0;34m=\u001b[0m \u001b[0mnp\u001b[0m\u001b[0;34m.\u001b[0m\u001b[0masarray\u001b[0m\u001b[0;34m(\u001b[0m\u001b[0marray\u001b[0m\u001b[0;34m,\u001b[0m \u001b[0morder\u001b[0m\u001b[0;34m=\u001b[0m\u001b[0morder\u001b[0m\u001b[0;34m,\u001b[0m \u001b[0mdtype\u001b[0m\u001b[0;34m=\u001b[0m\u001b[0mdtype\u001b[0m\u001b[0;34m)\u001b[0m\u001b[0;34m\u001b[0m\u001b[0;34m\u001b[0m\u001b[0m\n\u001b[0m\u001b[1;32m    747\u001b[0m             \u001b[0;32mexcept\u001b[0m \u001b[0mComplexWarning\u001b[0m \u001b[0;32mas\u001b[0m \u001b[0mcomplex_warning\u001b[0m\u001b[0;34m:\u001b[0m\u001b[0;34m\u001b[0m\u001b[0;34m\u001b[0m\u001b[0m\n\u001b[1;32m    748\u001b[0m                 raise ValueError(\n",
            "\u001b[0;32m/usr/local/lib/python3.7/dist-packages/numpy/core/_asarray.py\u001b[0m in \u001b[0;36masarray\u001b[0;34m(a, dtype, order)\u001b[0m\n\u001b[1;32m     81\u001b[0m \u001b[0;34m\u001b[0m\u001b[0m\n\u001b[1;32m     82\u001b[0m     \"\"\"\n\u001b[0;32m---> 83\u001b[0;31m     \u001b[0;32mreturn\u001b[0m \u001b[0marray\u001b[0m\u001b[0;34m(\u001b[0m\u001b[0ma\u001b[0m\u001b[0;34m,\u001b[0m \u001b[0mdtype\u001b[0m\u001b[0;34m,\u001b[0m \u001b[0mcopy\u001b[0m\u001b[0;34m=\u001b[0m\u001b[0;32mFalse\u001b[0m\u001b[0;34m,\u001b[0m \u001b[0morder\u001b[0m\u001b[0;34m=\u001b[0m\u001b[0morder\u001b[0m\u001b[0;34m)\u001b[0m\u001b[0;34m\u001b[0m\u001b[0;34m\u001b[0m\u001b[0m\n\u001b[0m\u001b[1;32m     84\u001b[0m \u001b[0;34m\u001b[0m\u001b[0m\n\u001b[1;32m     85\u001b[0m \u001b[0;34m\u001b[0m\u001b[0m\n",
            "\u001b[0;31mTypeError\u001b[0m: float() argument must be a string or a number, not 'Timestamp'"
          ]
        }
      ]
    },
    {
      "cell_type": "code",
      "source": [
        "last_60_y=scaler.inverse_transform(df[2931:]).tolist()"
      ],
      "metadata": {
        "id": "XnsQEd0UJI5o"
      },
      "execution_count": null,
      "outputs": []
    },
    {
      "cell_type": "code",
      "source": [
        "last_60_y"
      ],
      "metadata": {
        "colab": {
          "base_uri": "https://localhost:8080/"
        },
        "id": "q8u9twe1Jzug",
        "outputId": "67b4da63-1040-4d43-ee1c-6857e6c2c6ee"
      },
      "execution_count": null,
      "outputs": [
        {
          "output_type": "execute_result",
          "data": {
            "text/plain": [
              "[[56791.14098001892],\n",
              " [56546.41386896868],\n",
              " [55530.38481910244],\n",
              " [55892.15920677389],\n",
              " [52657.148420067264],\n",
              " [52899.390855578305],\n",
              " [52969.770097797555],\n",
              " [51633.484237441626],\n",
              " [51503.241645946764],\n",
              " [50253.37636549463],\n",
              " [49984.38859921568],\n",
              " [47454.737860246605],\n",
              " [49073.6471420175],\n",
              " [47584.17625091596],\n",
              " [47683.504545416086],\n",
              " [46498.94708577861],\n",
              " [48184.27661773128],\n",
              " [48054.19389179899],\n",
              " [48436.180789597194],\n",
              " [48069.07327271789],\n",
              " [46895.94378900049],\n",
              " [46432.77590457313],\n",
              " [46887.6027007832],\n",
              " [47596.23703889959],\n",
              " [47318.76192793041],\n",
              " [47700.012891666054],\n",
              " [48399.59487144549],\n",
              " [47408.47190614038],\n",
              " [46833.570301939275],\n",
              " [46966.50697252928],\n",
              " [45980.81882081151],\n",
              " [45943.1003111176],\n",
              " [47601.490712611965],\n",
              " [47326.33117067105],\n",
              " [47596.89904217608],\n",
              " [46833.80944593341],\n",
              " [48352.09985846849],\n",
              " [48832.003109471036],\n",
              " [48912.42449830914],\n",
              " [48030.57140168384],\n",
              " [47904.85498910051],\n",
              " [46934.33135311868],\n",
              " [46860.93993752875],\n",
              " [46896.23930365595],\n",
              " [45173.99139977831],\n",
              " [45528.995416068276],\n",
              " [46050.33270962839],\n",
              " [46452.63291365418],\n",
              " [45157.32665099818],\n",
              " [45392.2202833477],\n",
              " [46447.155047833876],\n",
              " [46354.949036647704],\n",
              " [46968.819521321915],\n",
              " [46614.68296878612],\n",
              " [45985.705064178714],\n",
              " [46124.8564586762],\n",
              " [46455.25059005356],\n",
              " [46720.43588953144],\n",
              " [46060.17108185067],\n",
              " [46269.66670495194]]"
            ]
          },
          "metadata": {},
          "execution_count": 133
        }
      ]
    },
    {
      "cell_type": "code",
      "source": [
        "predicted_30=scaler.inverse_transform(lst_output).tolist()"
      ],
      "metadata": {
        "id": "XKaIGJ3SFQAw"
      },
      "execution_count": null,
      "outputs": []
    },
    {
      "cell_type": "code",
      "source": [
        "predicted_30"
      ],
      "metadata": {
        "colab": {
          "base_uri": "https://localhost:8080/"
        },
        "id": "svj2Wo4UJtTt",
        "outputId": "8e179ffe-4c40-4d6f-fd56-7e481483852d"
      },
      "execution_count": null,
      "outputs": [
        {
          "output_type": "execute_result",
          "data": {
            "text/plain": [
              "[[34180.014218868986],\n",
              " [34108.01886104703],\n",
              " [34062.687191173565],\n",
              " [34027.671164100735],\n",
              " [33997.94836566115],\n",
              " [33971.45874381178],\n",
              " [33947.06722566432],\n",
              " [33924.047591260976],\n",
              " [33901.92480207306],\n",
              " [33880.40314813449],\n",
              " [33859.3144330169],\n",
              " [33838.57870775617],\n",
              " [33818.17370808379],\n",
              " [33798.10833970717],\n",
              " [33778.408712541175],\n",
              " [33759.104579744606],\n",
              " [33740.22346804943],\n",
              " [33721.78642730949],\n",
              " [33703.80762569564],\n",
              " [33686.293540086],\n",
              " [33669.243968078124],\n",
              " [33652.654254415866],\n",
              " [33636.514886184515],\n",
              " [33620.814124042496],\n",
              " [33605.53901423359],\n",
              " [33590.67538858695],\n",
              " [33576.209281334144],\n",
              " [33562.12652430432],\n",
              " [33548.41375893638],\n",
              " [33535.05823387655]]"
            ]
          },
          "metadata": {},
          "execution_count": 128
        }
      ]
    },
    {
      "cell_type": "code",
      "source": [
        "df.shape"
      ],
      "metadata": {
        "colab": {
          "base_uri": "https://localhost:8080/"
        },
        "id": "uMlFMqxXCPta",
        "outputId": "e3502ddd-cbdc-48e4-a293-63754e9b13b3"
      },
      "execution_count": null,
      "outputs": [
        {
          "output_type": "execute_result",
          "data": {
            "text/plain": [
              "(2991, 1)"
            ]
          },
          "metadata": {},
          "execution_count": 92
        }
      ]
    },
    {
      "cell_type": "code",
      "source": [
        "predict_df=df.tolist()\n",
        "predict_df.extend(lst_output)"
      ],
      "metadata": {
        "id": "yT43MjGCBuHv"
      },
      "execution_count": null,
      "outputs": []
    },
    {
      "cell_type": "code",
      "source": [
        "plt.figure(figsize=(15,8))\n",
        "plt.plot(day_new,scaler.inverse_transform(df[2931:]),c='orange')\n",
        "plt.plot(day_pred,scaler.inverse_transform(lst_output),c='purple')"
      ],
      "metadata": {
        "colab": {
          "base_uri": "https://localhost:8080/",
          "height": 433
        },
        "id": "KiGboHP8CH1R",
        "outputId": "899aca78-1327-4e40-9927-2b56348f68ec"
      },
      "execution_count": null,
      "outputs": [
        {
          "output_type": "error",
          "ename": "TypeError",
          "evalue": "ignored",
          "traceback": [
            "\u001b[0;31m---------------------------------------------------------------------------\u001b[0m",
            "\u001b[0;31mTypeError\u001b[0m                                 Traceback (most recent call last)",
            "\u001b[0;32m<ipython-input-177-1f13d87fee19>\u001b[0m in \u001b[0;36m<module>\u001b[0;34m()\u001b[0m\n\u001b[1;32m      1\u001b[0m \u001b[0mplt\u001b[0m\u001b[0;34m.\u001b[0m\u001b[0mfigure\u001b[0m\u001b[0;34m(\u001b[0m\u001b[0mfigsize\u001b[0m\u001b[0;34m=\u001b[0m\u001b[0;34m(\u001b[0m\u001b[0;36m15\u001b[0m\u001b[0;34m,\u001b[0m\u001b[0;36m8\u001b[0m\u001b[0;34m)\u001b[0m\u001b[0;34m)\u001b[0m\u001b[0;34m\u001b[0m\u001b[0;34m\u001b[0m\u001b[0m\n\u001b[0;32m----> 2\u001b[0;31m \u001b[0mplt\u001b[0m\u001b[0;34m.\u001b[0m\u001b[0mplot\u001b[0m\u001b[0;34m(\u001b[0m\u001b[0mday_new\u001b[0m\u001b[0;34m,\u001b[0m\u001b[0mscaler\u001b[0m\u001b[0;34m.\u001b[0m\u001b[0minverse_transform\u001b[0m\u001b[0;34m(\u001b[0m\u001b[0mdf\u001b[0m\u001b[0;34m[\u001b[0m\u001b[0;36m2931\u001b[0m\u001b[0;34m:\u001b[0m\u001b[0;34m]\u001b[0m\u001b[0;34m)\u001b[0m\u001b[0;34m,\u001b[0m\u001b[0mc\u001b[0m\u001b[0;34m=\u001b[0m\u001b[0;34m'orange'\u001b[0m\u001b[0;34m)\u001b[0m\u001b[0;34m\u001b[0m\u001b[0;34m\u001b[0m\u001b[0m\n\u001b[0m\u001b[1;32m      3\u001b[0m \u001b[0mplt\u001b[0m\u001b[0;34m.\u001b[0m\u001b[0mplot\u001b[0m\u001b[0;34m(\u001b[0m\u001b[0mday_pred\u001b[0m\u001b[0;34m,\u001b[0m\u001b[0mscaler\u001b[0m\u001b[0;34m.\u001b[0m\u001b[0minverse_transform\u001b[0m\u001b[0;34m(\u001b[0m\u001b[0mlst_output\u001b[0m\u001b[0;34m)\u001b[0m\u001b[0;34m,\u001b[0m\u001b[0mc\u001b[0m\u001b[0;34m=\u001b[0m\u001b[0;34m'purple'\u001b[0m\u001b[0;34m)\u001b[0m\u001b[0;34m\u001b[0m\u001b[0;34m\u001b[0m\u001b[0m\n",
            "\u001b[0;32m/usr/local/lib/python3.7/dist-packages/sklearn/preprocessing/_data.py\u001b[0m in \u001b[0;36minverse_transform\u001b[0;34m(self, X)\u001b[0m\n\u001b[1;32m    524\u001b[0m \u001b[0;34m\u001b[0m\u001b[0m\n\u001b[1;32m    525\u001b[0m         X = check_array(\n\u001b[0;32m--> 526\u001b[0;31m             \u001b[0mX\u001b[0m\u001b[0;34m,\u001b[0m \u001b[0mcopy\u001b[0m\u001b[0;34m=\u001b[0m\u001b[0mself\u001b[0m\u001b[0;34m.\u001b[0m\u001b[0mcopy\u001b[0m\u001b[0;34m,\u001b[0m \u001b[0mdtype\u001b[0m\u001b[0;34m=\u001b[0m\u001b[0mFLOAT_DTYPES\u001b[0m\u001b[0;34m,\u001b[0m \u001b[0mforce_all_finite\u001b[0m\u001b[0;34m=\u001b[0m\u001b[0;34m\"allow-nan\"\u001b[0m\u001b[0;34m\u001b[0m\u001b[0;34m\u001b[0m\u001b[0m\n\u001b[0m\u001b[1;32m    527\u001b[0m         )\n\u001b[1;32m    528\u001b[0m \u001b[0;34m\u001b[0m\u001b[0m\n",
            "\u001b[0;32m/usr/local/lib/python3.7/dist-packages/sklearn/utils/validation.py\u001b[0m in \u001b[0;36mcheck_array\u001b[0;34m(array, accept_sparse, accept_large_sparse, dtype, order, copy, force_all_finite, ensure_2d, allow_nd, ensure_min_samples, ensure_min_features, estimator)\u001b[0m\n\u001b[1;32m    663\u001b[0m \u001b[0;34m\u001b[0m\u001b[0m\n\u001b[1;32m    664\u001b[0m         \u001b[0;32mif\u001b[0m \u001b[0mall\u001b[0m\u001b[0;34m(\u001b[0m\u001b[0misinstance\u001b[0m\u001b[0;34m(\u001b[0m\u001b[0mdtype\u001b[0m\u001b[0;34m,\u001b[0m \u001b[0mnp\u001b[0m\u001b[0;34m.\u001b[0m\u001b[0mdtype\u001b[0m\u001b[0;34m)\u001b[0m \u001b[0;32mfor\u001b[0m \u001b[0mdtype\u001b[0m \u001b[0;32min\u001b[0m \u001b[0mdtypes_orig\u001b[0m\u001b[0;34m)\u001b[0m\u001b[0;34m:\u001b[0m\u001b[0;34m\u001b[0m\u001b[0;34m\u001b[0m\u001b[0m\n\u001b[0;32m--> 665\u001b[0;31m             \u001b[0mdtype_orig\u001b[0m \u001b[0;34m=\u001b[0m \u001b[0mnp\u001b[0m\u001b[0;34m.\u001b[0m\u001b[0mresult_type\u001b[0m\u001b[0;34m(\u001b[0m\u001b[0;34m*\u001b[0m\u001b[0mdtypes_orig\u001b[0m\u001b[0;34m)\u001b[0m\u001b[0;34m\u001b[0m\u001b[0;34m\u001b[0m\u001b[0m\n\u001b[0m\u001b[1;32m    666\u001b[0m \u001b[0;34m\u001b[0m\u001b[0m\n\u001b[1;32m    667\u001b[0m     \u001b[0;32mif\u001b[0m \u001b[0mdtype_numeric\u001b[0m\u001b[0;34m:\u001b[0m\u001b[0;34m\u001b[0m\u001b[0;34m\u001b[0m\u001b[0m\n",
            "\u001b[0;32m<__array_function__ internals>\u001b[0m in \u001b[0;36mresult_type\u001b[0;34m(*args, **kwargs)\u001b[0m\n",
            "\u001b[0;31mTypeError\u001b[0m: invalid type promotion"
          ]
        },
        {
          "output_type": "display_data",
          "data": {
            "text/plain": [
              "<Figure size 1080x576 with 0 Axes>"
            ]
          },
          "metadata": {}
        }
      ]
    },
    {
      "cell_type": "code",
      "source": [
        ""
      ],
      "metadata": {
        "id": "WUIeRSfZBaYs"
      },
      "execution_count": null,
      "outputs": []
    },
    {
      "cell_type": "code",
      "source": [
        "# residuals\n",
        "\n",
        "residuals= test-closing_price_transformed\n",
        "residuals = pd.DataFrame(residuals).drop('Predictions',1)\n",
        "# plot residuals\n",
        "residuals.plot()\n",
        "plt.show()"
      ],
      "metadata": {
        "colab": {
          "base_uri": "https://localhost:8080/",
          "height": 293
        },
        "id": "W6915GK6Estv",
        "outputId": "78f2fc12-705f-41ad-f7a6-2793fded6cd3"
      },
      "execution_count": null,
      "outputs": [
        {
          "output_type": "display_data",
          "data": {
            "image/png": "[encoded data removed]",
            "text/plain": [
              "<Figure size 432x288 with 1 Axes>"
            ]
          },
          "metadata": {
            "needs_background": "light"
          }
        }
      ]
    },
    {
      "cell_type": "code",
      "source": [
        "residuals.hist()\n",
        "plt.title('Residuals Histogram')\n",
        "plt.show()"
      ],
      "metadata": {
        "colab": {
          "base_uri": "https://localhost:8080/",
          "height": 281
        },
        "id": "QFEWIa3qFwmU",
        "outputId": "9ae63266-9cde-46cd-b00f-b9bc32f8b578"
      },
      "execution_count": null,
      "outputs": [
        {
          "output_type": "display_data",
          "data": {
            "image/png": "[encoded data removed]",
            "text/plain": [
              "<Figure size 432x288 with 1 Axes>"
            ]
          },
          "metadata": {
            "needs_background": "light"
          }
        }
      ]
    },
    {
      "cell_type": "code",
      "source": [
        "# check correlations between cols\n",
        "corrs=bitcoin_df.corr()['Close'].abs()\n",
        "columns=corrs[corrs>.001].index\n",
        "corrs=corrs.filter(columns)\n",
        "corrs\n",
        "\n",
        "# plot heatmap\n",
        "ax = plt.axes()\n",
        "sns.heatmap(doge_df[['Year',\t'Month','Day_of_Week','Close','Marketcap']].corr(), annot=True,cmap=\"Blues\",ax = ax)\n",
        "\n",
        "ax.set_title('Bitcoin Close Price Correlations among features')\n",
        "plt.show()\n",
        "# heatmap = sns.heatmap(doge_df[['Year',\t'Month','Day_of_Week','Close','Marketcap']].corr(),cmap=\"Blues\")"
      ],
      "metadata": {
        "colab": {
          "base_uri": "https://localhost:8080/",
          "height": 282
        },
        "id": "1mTw8zP6YUJX",
        "outputId": "03c0bacb-a9e0-4ada-c6e5-1aedf772cccf"
      },
      "execution_count": null,
      "outputs": [
        {
          "output_type": "display_data",
          "data": {
            "image/png": "[encoded data removed]",
            "text/plain": [
              "<Figure size 432x288 with 2 Axes>"
            ]
          },
          "metadata": {
            "needs_background": "light"
          }
        }
      ]
    },
    {
      "cell_type": "code",
      "source": [
        "# check corrs between coins and close price by making a new df\n",
        "data={\n",
        "    'Bitcoin(Close unit price)':bitcoin_df['Close'],\n",
        "    'Tether(Close unit price)':tether_df['Close'],\n",
        "    'Doge(Close unit price)':doge_df['Close'],\n",
        "    'Ethereum(Close unit price)':ethereum_df['Close']\n",
        "}\n",
        "\n",
        "corr_df=pd.DataFrame(data)\n",
        "corr_df=corr_df.dropna()\n",
        "corr_df\n"
      ],
      "metadata": {
        "colab": {
          "base_uri": "https://localhost:8080/",
          "height": 424
        },
        "id": "MVGv9r87bzBf",
        "outputId": "431e85b0-4c62-4964-ae68-b2f58c898eb3"
      },
      "execution_count": null,
      "outputs": [
        {
          "output_type": "execute_result",
          "data": {
            "text/html": [
              "\n",
              "  <div id=\"df-d2417d35-8ba2-4589-8e5f-e6b4f17df458\">\n",
              "    <div class=\"colab-df-container\">\n",
              "      <div>\n",
              "<style scoped>\n",
              "    .dataframe tbody tr th:only-of-type {\n",
              "        vertical-align: middle;\n",
              "    }\n",
              "\n",
              "    .dataframe tbody tr th {\n",
              "        vertical-align: top;\n",
              "    }\n",
              "\n",
              "    .dataframe thead th {\n",
              "        text-align: right;\n",
              "    }\n",
              "</style>\n",
              "<table border=\"1\" class=\"dataframe\">\n",
              "  <thead>\n",
              "    <tr style=\"text-align: right;\">\n",
              "      <th></th>\n",
              "      <th>Bitcoin(Close unit price)</th>\n",
              "      <th>Tether(Close unit price)</th>\n",
              "      <th>Doge(Close unit price)</th>\n",
              "      <th>Ethereum(Close unit price)</th>\n",
              "    </tr>\n",
              "  </thead>\n",
              "  <tbody>\n",
              "    <tr>\n",
              "      <th>0</th>\n",
              "      <td>144.53999329</td>\n",
              "      <td>1.20573997</td>\n",
              "      <td>0.00020473</td>\n",
              "      <td>0.75332499</td>\n",
              "    </tr>\n",
              "    <tr>\n",
              "      <th>1</th>\n",
              "      <td>139.00000000</td>\n",
              "      <td>0.60650200</td>\n",
              "      <td>0.00026854</td>\n",
              "      <td>0.70189703</td>\n",
              "    </tr>\n",
              "    <tr>\n",
              "      <th>2</th>\n",
              "      <td>116.98999786</td>\n",
              "      <td>0.60622901</td>\n",
              "      <td>0.00036163</td>\n",
              "      <td>0.70844799</td>\n",
              "    </tr>\n",
              "    <tr>\n",
              "      <th>3</th>\n",
              "      <td>105.20999908</td>\n",
              "      <td>1.00000000</td>\n",
              "      <td>0.00116249</td>\n",
              "      <td>1.06786001</td>\n",
              "    </tr>\n",
              "    <tr>\n",
              "      <th>4</th>\n",
              "      <td>97.75000000</td>\n",
              "      <td>1.00000000</td>\n",
              "      <td>0.00070387</td>\n",
              "      <td>1.21744001</td>\n",
              "    </tr>\n",
              "    <tr>\n",
              "      <th>...</th>\n",
              "      <td>...</td>\n",
              "      <td>...</td>\n",
              "      <td>...</td>\n",
              "      <td>...</td>\n",
              "    </tr>\n",
              "    <tr>\n",
              "      <th>2155</th>\n",
              "      <td>4022.16828220</td>\n",
              "      <td>0.99997087</td>\n",
              "      <td>0.00277499</td>\n",
              "      <td>2150.04036404</td>\n",
              "    </tr>\n",
              "    <tr>\n",
              "      <th>2156</th>\n",
              "      <td>3963.07065416</td>\n",
              "      <td>1.00108122</td>\n",
              "      <td>0.00271483</td>\n",
              "      <td>2226.11428196</td>\n",
              "    </tr>\n",
              "    <tr>\n",
              "      <th>2157</th>\n",
              "      <td>3985.08080287</td>\n",
              "      <td>1.00176440</td>\n",
              "      <td>0.00272501</td>\n",
              "      <td>2321.72411157</td>\n",
              "    </tr>\n",
              "    <tr>\n",
              "      <th>2158</th>\n",
              "      <td>4087.06622992</td>\n",
              "      <td>1.00154320</td>\n",
              "      <td>0.00269754</td>\n",
              "      <td>2198.58246387</td>\n",
              "    </tr>\n",
              "    <tr>\n",
              "      <th>2159</th>\n",
              "      <td>4069.10714977</td>\n",
              "      <td>1.00048592</td>\n",
              "      <td>0.00268024</td>\n",
              "      <td>2324.67944917</td>\n",
              "    </tr>\n",
              "  </tbody>\n",
              "</table>\n",
              "<p>2160 rows × 4 columns</p>\n",
              "</div>\n",
              "      <button class=\"colab-df-convert\" onclick=\"convertToInteractive('df-d2417d35-8ba2-4589-8e5f-e6b4f17df458')\"\n",
              "              title=\"Convert this dataframe to an interactive table.\"\n",
              "              style=\"display:none;\">\n",
              "        \n",
              "  <svg xmlns=\"http://www.w3.org/2000/svg\" height=\"24px\"viewBox=\"0 0 24 24\"\n",
              "       width=\"24px\">\n",
              "    <path d=\"M0 0h24v24H0V0z\" fill=\"none\"/>\n",
              "    <path d=\"M18.56 5.44l.94 2.06.94-2.06 2.06-.94-2.06-.94-.94-2.06-.94 2.06-2.06.94zm-11 1L8.5 8.5l.94-2.06 2.06-.94-2.06-.94L8.5 2.5l-.94 2.06-2.06.94zm10 10l.94 2.06.94-2.06 2.06-.94-2.06-.94-.94-2.06-.94 2.06-2.06.94z\"/><path d=\"M17.41 7.96l-1.37-1.37c-.4-.4-.92-.59-1.43-.59-.52 0-1.04.2-1.43.59L10.3 9.45l-7.72 7.72c-.78.78-.78 2.05 0 2.83L4 21.41c.39.39.9.59 1.41.59.51 0 1.02-.2 1.41-.59l7.78-7.78 2.81-2.81c.8-.78.8-2.07 0-2.86zM5.41 20L4 18.59l7.72-7.72 1.47 1.35L5.41 20z\"/>\n",
              "  </svg>\n",
              "      </button>\n",
              "      \n",
              "  <style>\n",
              "    .colab-df-container {\n",
              "      display:flex;\n",
              "      flex-wrap:wrap;\n",
              "      gap: 12px;\n",
              "    }\n",
              "\n",
              "    .colab-df-convert {\n",
              "      background-color: #E8F0FE;\n",
              "      border: none;\n",
              "      border-radius: 50%;\n",
              "      cursor: pointer;\n",
              "      display: none;\n",
              "      fill: #1967D2;\n",
              "      height: 32px;\n",
              "      padding: 0 0 0 0;\n",
              "      width: 32px;\n",
              "    }\n",
              "\n",
              "    .colab-df-convert:hover {\n",
              "      background-color: #E2EBFA;\n",
              "      box-shadow: 0px 1px 2px rgba(60, 64, 67, 0.3), 0px 1px 3px 1px rgba(60, 64, 67, 0.15);\n",
              "      fill: #174EA6;\n",
              "    }\n",
              "\n",
              "    [theme=dark] .colab-df-convert {\n",
              "      background-color: #3B4455;\n",
              "      fill: #D2E3FC;\n",
              "    }\n",
              "\n",
              "    [theme=dark] .colab-df-convert:hover {\n",
              "      background-color: #434B5C;\n",
              "      box-shadow: 0px 1px 3px 1px rgba(0, 0, 0, 0.15);\n",
              "      filter: drop-shadow(0px 1px 2px rgba(0, 0, 0, 0.3));\n",
              "      fill: #FFFFFF;\n",
              "    }\n",
              "  </style>\n",
              "\n",
              "      <script>\n",
              "        const buttonEl =\n",
              "          document.querySelector('#df-d2417d35-8ba2-4589-8e5f-e6b4f17df458 button.colab-df-convert');\n",
              "        buttonEl.style.display =\n",
              "          google.colab.kernel.accessAllowed ? 'block' : 'none';\n",
              "\n",
              "        async function convertToInteractive(key) {\n",
              "          const element = document.querySelector('#df-d2417d35-8ba2-4589-8e5f-e6b4f17df458');\n",
              "          const dataTable =\n",
              "            await google.colab.kernel.invokeFunction('convertToInteractive',\n",
              "                                                     [key], {});\n",
              "          if (!dataTable) return;\n",
              "\n",
              "          const docLinkHtml = 'Like what you see? Visit the ' +\n",
              "            '<a target=\"_blank\" href=https://colab.research.google.com/notebooks/data_table.ipynb>data table notebook</a>'\n",
              "            + ' to learn more about interactive tables.';\n",
              "          element.innerHTML = '';\n",
              "          dataTable['output_type'] = 'display_data';\n",
              "          await google.colab.output.renderOutput(dataTable, element);\n",
              "          const docLink = document.createElement('div');\n",
              "          docLink.innerHTML = docLinkHtml;\n",
              "          element.appendChild(docLink);\n",
              "        }\n",
              "      </script>\n",
              "    </div>\n",
              "  </div>\n",
              "  "
            ],
            "text/plain": [
              "      Bitcoin(Close unit price)  ...  Ethereum(Close unit price)\n",
              "0                  144.53999329  ...                  0.75332499\n",
              "1                  139.00000000  ...                  0.70189703\n",
              "2                  116.98999786  ...                  0.70844799\n",
              "3                  105.20999908  ...                  1.06786001\n",
              "4                   97.75000000  ...                  1.21744001\n",
              "...                         ...  ...                         ...\n",
              "2155              4022.16828220  ...               2150.04036404\n",
              "2156              3963.07065416  ...               2226.11428196\n",
              "2157              3985.08080287  ...               2321.72411157\n",
              "2158              4087.06622992  ...               2198.58246387\n",
              "2159              4069.10714977  ...               2324.67944917\n",
              "\n",
              "[2160 rows x 4 columns]"
            ]
          },
          "metadata": {},
          "execution_count": 32
        }
      ]
    },
    {
      "cell_type": "code",
      "source": [
        "# plot heatmap for corrs among cins\n",
        "ax = plt.axes()\n",
        "plt.title('Inter Correlations Among Coins\" Closing Price')\n",
        "heatmap = sns.heatmap(corr_df.corr(),cmap=\"Blues\",annot=True,ax=ax)\n",
        "plt.show()"
      ],
      "metadata": {
        "colab": {
          "base_uri": "https://localhost:8080/",
          "height": 405
        },
        "id": "JO5BUopAe3Dw",
        "outputId": "f7d821ef-9c9d-448a-baeb-ea8edc451221"
      },
      "execution_count": null,
      "outputs": [
        {
          "output_type": "display_data",
          "data": {
            "image/png": "[encoded data removed]",
            "text/plain": [
              "<Figure size 432x288 with 2 Axes>"
            ]
          },
          "metadata": {
            "needs_background": "light"
          }
        }
      ]
    }
  ],
  "metadata": {
    "interpreter": {
      "hash": "cb1f34559fd17c6df94df2a0a173bb95a3ab5cdccd0a1fff907d6d1a4377eb82"
    },
    "kernelspec": {
      "display_name": "Python 3.8.5 64-bit ('anaconda3': virtualenv)",
      "name": "python3"
    },
    "language_info": {
      "codemirror_mode": {
        "name": "ipython",
        "version": 3
      },
      "file_extension": ".py",
      "mimetype": "text/x-python",
      "name": "python",
      "nbconvert_exporter": "python",
      "pygments_lexer": "ipython3",
      "version": "3.8.5"
    },
    "colab": {
      "name": "ML_final (1).ipynb",
      "provenance": [],
      "collapsed_sections": []
    }
  },
  "nbformat": 4,
  "nbformat_minor": 0
}